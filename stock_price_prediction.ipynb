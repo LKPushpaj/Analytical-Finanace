{
  "nbformat": 4,
  "nbformat_minor": 0,
  "metadata": {
    "colab": {
      "name": "stock price prediction",
      "provenance": []
    },
    "kernelspec": {
      "name": "python3",
      "display_name": "Python 3"
    }
  },
  "cells": [
    {
      "cell_type": "code",
      "metadata": {
        "id": "BTby8bdXOGKm",
        "colab_type": "code",
        "colab": {}
      },
      "source": [
        "import numpy as np\n",
        "import pandas as pd\n",
        "from datetime import datetime \n",
        "\n",
        "import seaborn as sns\n",
        "import matplotlib.pyplot as plt\n",
        "import pandas_datareader as web\n",
        "from sklearn.preprocessing import MinMaxScaler"
      ],
      "execution_count": null,
      "outputs": []
    },
    {
      "cell_type": "code",
      "metadata": {
        "id": "Usql50zlhRXH",
        "colab_type": "code",
        "colab": {
          "base_uri": "https://localhost:8080/",
          "height": 340
        },
        "outputId": "a086e236-b9ca-4ae5-afe9-c5769b28cebe"
      },
      "source": [
        "stockStartDate = '2012-05-18'\n",
        "#today = datetime.today().strftime('%Y-%m-%d')\n",
        "\n",
        "end ='2020-04-29'\n",
        "\n",
        "data = web.DataReader('RELIANCE', data_source='nse',start = stockStartDate, end=end)"
      ],
      "execution_count": null,
      "outputs": [
        {
          "output_type": "error",
          "ename": "NotImplementedError",
          "evalue": "ignored",
          "traceback": [
            "\u001b[0;31m---------------------------------------------------------------------------\u001b[0m",
            "\u001b[0;31mNotImplementedError\u001b[0m                       Traceback (most recent call last)",
            "\u001b[0;32m<ipython-input-55-74e7f028a62f>\u001b[0m in \u001b[0;36m<module>\u001b[0;34m()\u001b[0m\n\u001b[1;32m      4\u001b[0m \u001b[0mend\u001b[0m \u001b[0;34m=\u001b[0m\u001b[0;34m'2020-04-29'\u001b[0m\u001b[0;34m\u001b[0m\u001b[0;34m\u001b[0m\u001b[0m\n\u001b[1;32m      5\u001b[0m \u001b[0;34m\u001b[0m\u001b[0m\n\u001b[0;32m----> 6\u001b[0;31m \u001b[0mdata\u001b[0m \u001b[0;34m=\u001b[0m \u001b[0mweb\u001b[0m\u001b[0;34m.\u001b[0m\u001b[0mDataReader\u001b[0m\u001b[0;34m(\u001b[0m\u001b[0;34m'RELIANCE'\u001b[0m\u001b[0;34m,\u001b[0m \u001b[0mdata_source\u001b[0m\u001b[0;34m=\u001b[0m\u001b[0;34m'nse'\u001b[0m\u001b[0;34m,\u001b[0m\u001b[0mstart\u001b[0m \u001b[0;34m=\u001b[0m \u001b[0mstockStartDate\u001b[0m\u001b[0;34m,\u001b[0m \u001b[0mend\u001b[0m\u001b[0;34m=\u001b[0m\u001b[0mend\u001b[0m\u001b[0;34m)\u001b[0m\u001b[0;34m\u001b[0m\u001b[0;34m\u001b[0m\u001b[0m\n\u001b[0m",
            "\u001b[0;32m/usr/local/lib/python3.6/dist-packages/pandas/util/_decorators.py\u001b[0m in \u001b[0;36mwrapper\u001b[0;34m(*args, **kwargs)\u001b[0m\n\u001b[1;32m    212\u001b[0m                 \u001b[0;32melse\u001b[0m\u001b[0;34m:\u001b[0m\u001b[0;34m\u001b[0m\u001b[0;34m\u001b[0m\u001b[0m\n\u001b[1;32m    213\u001b[0m                     \u001b[0mkwargs\u001b[0m\u001b[0;34m[\u001b[0m\u001b[0mnew_arg_name\u001b[0m\u001b[0;34m]\u001b[0m \u001b[0;34m=\u001b[0m \u001b[0mnew_arg_value\u001b[0m\u001b[0;34m\u001b[0m\u001b[0;34m\u001b[0m\u001b[0m\n\u001b[0;32m--> 214\u001b[0;31m             \u001b[0;32mreturn\u001b[0m \u001b[0mfunc\u001b[0m\u001b[0;34m(\u001b[0m\u001b[0;34m*\u001b[0m\u001b[0margs\u001b[0m\u001b[0;34m,\u001b[0m \u001b[0;34m**\u001b[0m\u001b[0mkwargs\u001b[0m\u001b[0;34m)\u001b[0m\u001b[0;34m\u001b[0m\u001b[0;34m\u001b[0m\u001b[0m\n\u001b[0m\u001b[1;32m    215\u001b[0m \u001b[0;34m\u001b[0m\u001b[0m\n\u001b[1;32m    216\u001b[0m         \u001b[0;32mreturn\u001b[0m \u001b[0mcast\u001b[0m\u001b[0;34m(\u001b[0m\u001b[0mF\u001b[0m\u001b[0;34m,\u001b[0m \u001b[0mwrapper\u001b[0m\u001b[0;34m)\u001b[0m\u001b[0;34m\u001b[0m\u001b[0;34m\u001b[0m\u001b[0m\n",
            "\u001b[0;32m/usr/local/lib/python3.6/dist-packages/pandas_datareader/data.py\u001b[0m in \u001b[0;36mDataReader\u001b[0;34m(name, data_source, start, end, retry_count, pause, session, api_key)\u001b[0m\n\u001b[1;32m    374\u001b[0m     \u001b[0;32mif\u001b[0m \u001b[0mdata_source\u001b[0m \u001b[0;32mnot\u001b[0m \u001b[0;32min\u001b[0m \u001b[0mexpected_source\u001b[0m\u001b[0;34m:\u001b[0m\u001b[0;34m\u001b[0m\u001b[0;34m\u001b[0m\u001b[0m\n\u001b[1;32m    375\u001b[0m         \u001b[0mmsg\u001b[0m \u001b[0;34m=\u001b[0m \u001b[0;34m\"data_source=%r is not implemented\"\u001b[0m \u001b[0;34m%\u001b[0m \u001b[0mdata_source\u001b[0m\u001b[0;34m\u001b[0m\u001b[0;34m\u001b[0m\u001b[0m\n\u001b[0;32m--> 376\u001b[0;31m         \u001b[0;32mraise\u001b[0m \u001b[0mNotImplementedError\u001b[0m\u001b[0;34m(\u001b[0m\u001b[0mmsg\u001b[0m\u001b[0;34m)\u001b[0m\u001b[0;34m\u001b[0m\u001b[0;34m\u001b[0m\u001b[0m\n\u001b[0m\u001b[1;32m    377\u001b[0m \u001b[0;34m\u001b[0m\u001b[0m\n\u001b[1;32m    378\u001b[0m     \u001b[0;32mif\u001b[0m \u001b[0mdata_source\u001b[0m \u001b[0;34m==\u001b[0m \u001b[0;34m\"yahoo\"\u001b[0m\u001b[0;34m:\u001b[0m\u001b[0;34m\u001b[0m\u001b[0;34m\u001b[0m\u001b[0m\n",
            "\u001b[0;31mNotImplementedError\u001b[0m: data_source='nse' is not implemented"
          ]
        }
      ]
    },
    {
      "cell_type": "code",
      "metadata": {
        "id": "HLuSusY3h0Xe",
        "colab_type": "code",
        "colab": {
          "base_uri": "https://localhost:8080/",
          "height": 450
        },
        "outputId": "ec811d18-f641-48fd-ba22-c3649329b56b"
      },
      "source": [
        "data"
      ],
      "execution_count": null,
      "outputs": [
        {
          "output_type": "execute_result",
          "data": {
            "text/html": [
              "<div>\n",
              "<style scoped>\n",
              "    .dataframe tbody tr th:only-of-type {\n",
              "        vertical-align: middle;\n",
              "    }\n",
              "\n",
              "    .dataframe tbody tr th {\n",
              "        vertical-align: top;\n",
              "    }\n",
              "\n",
              "    .dataframe thead th {\n",
              "        text-align: right;\n",
              "    }\n",
              "</style>\n",
              "<table border=\"1\" class=\"dataframe\">\n",
              "  <thead>\n",
              "    <tr style=\"text-align: right;\">\n",
              "      <th></th>\n",
              "      <th>High</th>\n",
              "      <th>Low</th>\n",
              "      <th>Open</th>\n",
              "      <th>Close</th>\n",
              "      <th>Volume</th>\n",
              "      <th>Adj Close</th>\n",
              "    </tr>\n",
              "    <tr>\n",
              "      <th>Date</th>\n",
              "      <th></th>\n",
              "      <th></th>\n",
              "      <th></th>\n",
              "      <th></th>\n",
              "      <th></th>\n",
              "      <th></th>\n",
              "    </tr>\n",
              "  </thead>\n",
              "  <tbody>\n",
              "    <tr>\n",
              "      <th>2013-01-02</th>\n",
              "      <td>28.180000</td>\n",
              "      <td>27.420000</td>\n",
              "      <td>27.440001</td>\n",
              "      <td>28.000000</td>\n",
              "      <td>69846400</td>\n",
              "      <td>28.000000</td>\n",
              "    </tr>\n",
              "    <tr>\n",
              "      <th>2013-01-03</th>\n",
              "      <td>28.469999</td>\n",
              "      <td>27.590000</td>\n",
              "      <td>27.879999</td>\n",
              "      <td>27.770000</td>\n",
              "      <td>63140600</td>\n",
              "      <td>27.770000</td>\n",
              "    </tr>\n",
              "    <tr>\n",
              "      <th>2013-01-04</th>\n",
              "      <td>28.930000</td>\n",
              "      <td>27.830000</td>\n",
              "      <td>28.010000</td>\n",
              "      <td>28.760000</td>\n",
              "      <td>72715400</td>\n",
              "      <td>28.760000</td>\n",
              "    </tr>\n",
              "    <tr>\n",
              "      <th>2013-01-07</th>\n",
              "      <td>29.790001</td>\n",
              "      <td>28.650000</td>\n",
              "      <td>28.690001</td>\n",
              "      <td>29.420000</td>\n",
              "      <td>83781800</td>\n",
              "      <td>29.420000</td>\n",
              "    </tr>\n",
              "    <tr>\n",
              "      <th>2013-01-08</th>\n",
              "      <td>29.600000</td>\n",
              "      <td>28.860001</td>\n",
              "      <td>29.510000</td>\n",
              "      <td>29.059999</td>\n",
              "      <td>45871300</td>\n",
              "      <td>29.059999</td>\n",
              "    </tr>\n",
              "    <tr>\n",
              "      <th>...</th>\n",
              "      <td>...</td>\n",
              "      <td>...</td>\n",
              "      <td>...</td>\n",
              "      <td>...</td>\n",
              "      <td>...</td>\n",
              "      <td>...</td>\n",
              "    </tr>\n",
              "    <tr>\n",
              "      <th>2020-08-03</th>\n",
              "      <td>255.399994</td>\n",
              "      <td>250.330002</td>\n",
              "      <td>252.649994</td>\n",
              "      <td>251.960007</td>\n",
              "      <td>23124900</td>\n",
              "      <td>251.960007</td>\n",
              "    </tr>\n",
              "    <tr>\n",
              "      <th>2020-08-04</th>\n",
              "      <td>252.800003</td>\n",
              "      <td>247.429993</td>\n",
              "      <td>251.559998</td>\n",
              "      <td>249.830002</td>\n",
              "      <td>17183500</td>\n",
              "      <td>249.830002</td>\n",
              "    </tr>\n",
              "    <tr>\n",
              "      <th>2020-08-05</th>\n",
              "      <td>252.270004</td>\n",
              "      <td>247.770004</td>\n",
              "      <td>250.190002</td>\n",
              "      <td>249.119995</td>\n",
              "      <td>13088400</td>\n",
              "      <td>249.119995</td>\n",
              "    </tr>\n",
              "    <tr>\n",
              "      <th>2020-08-06</th>\n",
              "      <td>266.600006</td>\n",
              "      <td>248.669998</td>\n",
              "      <td>249.039993</td>\n",
              "      <td>265.279999</td>\n",
              "      <td>45241600</td>\n",
              "      <td>265.279999</td>\n",
              "    </tr>\n",
              "    <tr>\n",
              "      <th>2020-08-07</th>\n",
              "      <td>278.890015</td>\n",
              "      <td>263.429993</td>\n",
              "      <td>264.079987</td>\n",
              "      <td>268.440002</td>\n",
              "      <td>72735500</td>\n",
              "      <td>268.440002</td>\n",
              "    </tr>\n",
              "  </tbody>\n",
              "</table>\n",
              "<p>1914 rows × 6 columns</p>\n",
              "</div>"
            ],
            "text/plain": [
              "                  High         Low  ...    Volume   Adj Close\n",
              "Date                                ...                      \n",
              "2013-01-02   28.180000   27.420000  ...  69846400   28.000000\n",
              "2013-01-03   28.469999   27.590000  ...  63140600   27.770000\n",
              "2013-01-04   28.930000   27.830000  ...  72715400   28.760000\n",
              "2013-01-07   29.790001   28.650000  ...  83781800   29.420000\n",
              "2013-01-08   29.600000   28.860001  ...  45871300   29.059999\n",
              "...                ...         ...  ...       ...         ...\n",
              "2020-08-03  255.399994  250.330002  ...  23124900  251.960007\n",
              "2020-08-04  252.800003  247.429993  ...  17183500  249.830002\n",
              "2020-08-05  252.270004  247.770004  ...  13088400  249.119995\n",
              "2020-08-06  266.600006  248.669998  ...  45241600  265.279999\n",
              "2020-08-07  278.890015  263.429993  ...  72735500  268.440002\n",
              "\n",
              "[1914 rows x 6 columns]"
            ]
          },
          "metadata": {
            "tags": []
          },
          "execution_count": 17
        }
      ]
    },
    {
      "cell_type": "code",
      "metadata": {
        "id": "L3qZ_OHujDTh",
        "colab_type": "code",
        "colab": {
          "base_uri": "https://localhost:8080/",
          "height": 136
        },
        "outputId": "ac3ea210-8d30-48f1-a68f-8127a420ccc3"
      },
      "source": [
        "data.isna().any()\n"
      ],
      "execution_count": null,
      "outputs": [
        {
          "output_type": "execute_result",
          "data": {
            "text/plain": [
              "High         False\n",
              "Low          False\n",
              "Open         False\n",
              "Close        False\n",
              "Volume       False\n",
              "Adj Close    False\n",
              "dtype: bool"
            ]
          },
          "metadata": {
            "tags": []
          },
          "execution_count": 20
        }
      ]
    },
    {
      "cell_type": "code",
      "metadata": {
        "id": "u8xLgPwfjdQd",
        "colab_type": "code",
        "colab": {
          "base_uri": "https://localhost:8080/",
          "height": 410
        },
        "outputId": "45c6182f-7809-4b67-903c-0f018c2cfcd7"
      },
      "source": [
        "\n",
        "# Visualizing The Data\n",
        "sns.set(style='darkgrid')\n",
        "plt.figure(figsize=(15, 6))\n",
        "\n",
        "plt.title(\"Facebook's Stock Market\")\n",
        "plt.xlabel('Date')\n",
        "plt.ylabel('Prices')\n",
        "\n",
        "plt.plot(data['Open'], label='Open', linewidth=3, color='red')\n",
        "plt.plot(data['Close'], label='Close', linewidth=3, color='blue')\n",
        "\n",
        "plt.legend()\n",
        "plt.show()"
      ],
      "execution_count": null,
      "outputs": [
        {
          "output_type": "display_data",
          "data": {
            "image/png": "[encoded data removed]",
            "text/plain": [
              "<Figure size 1080x432 with 1 Axes>"
            ]
          },
          "metadata": {
            "tags": []
          }
        }
      ]
    },
    {
      "cell_type": "code",
      "metadata": {
        "id": "aRrsi0eCjgcb",
        "colab_type": "code",
        "colab": {
          "base_uri": "https://localhost:8080/",
          "height": 410
        },
        "outputId": "6835d267-09c2-4546-98a0-6f776a0c8adc"
      },
      "source": [
        "# Visualizing The Data\n",
        "sns.set(style='darkgrid')\n",
        "plt.figure(figsize=(15, 6))\n",
        "\n",
        "plt.title(\"Facebook's Stock Market\")\n",
        "plt.xlabel('Date')\n",
        "plt.ylabel('Prices')\n",
        "\n",
        "plt.plot(data['High'], label='High', linewidth=3, color='purple')\n",
        "plt.plot(data['Low'], label='Low', linewidth=3, color='green')\n",
        "\n",
        "plt.legend()\n",
        "plt.show()"
      ],
      "execution_count": null,
      "outputs": [
        {
          "output_type": "display_data",
          "data": {
            "image/png": "[encoded data removed]",
            "text/plain": [
              "<Figure size 1080x432 with 1 Axes>"
            ]
          },
          "metadata": {
            "tags": []
          }
        }
      ]
    },
    {
      "cell_type": "code",
      "metadata": {
        "id": "GPlu-1hPjnTC",
        "colab_type": "code",
        "colab": {
          "base_uri": "https://localhost:8080/",
          "height": 450
        },
        "outputId": "1e78ee7d-1d03-4018-9c99-20ad8e7c763a"
      },
      "source": [
        "training_data = data[data.index < '2019-01-01']\n",
        "testing_data = data[data.index >= '2019-01-01']\n",
        "\n",
        "testing_data"
      ],
      "execution_count": null,
      "outputs": [
        {
          "output_type": "execute_result",
          "data": {
            "text/html": [
              "<div>\n",
              "<style scoped>\n",
              "    .dataframe tbody tr th:only-of-type {\n",
              "        vertical-align: middle;\n",
              "    }\n",
              "\n",
              "    .dataframe tbody tr th {\n",
              "        vertical-align: top;\n",
              "    }\n",
              "\n",
              "    .dataframe thead th {\n",
              "        text-align: right;\n",
              "    }\n",
              "</style>\n",
              "<table border=\"1\" class=\"dataframe\">\n",
              "  <thead>\n",
              "    <tr style=\"text-align: right;\">\n",
              "      <th></th>\n",
              "      <th>High</th>\n",
              "      <th>Low</th>\n",
              "      <th>Open</th>\n",
              "      <th>Close</th>\n",
              "      <th>Volume</th>\n",
              "      <th>Adj Close</th>\n",
              "    </tr>\n",
              "    <tr>\n",
              "      <th>Date</th>\n",
              "      <th></th>\n",
              "      <th></th>\n",
              "      <th></th>\n",
              "      <th></th>\n",
              "      <th></th>\n",
              "      <th></th>\n",
              "    </tr>\n",
              "  </thead>\n",
              "  <tbody>\n",
              "    <tr>\n",
              "      <th>2019-01-02</th>\n",
              "      <td>137.509995</td>\n",
              "      <td>128.559998</td>\n",
              "      <td>128.990005</td>\n",
              "      <td>135.679993</td>\n",
              "      <td>28146200</td>\n",
              "      <td>135.679993</td>\n",
              "    </tr>\n",
              "    <tr>\n",
              "      <th>2019-01-03</th>\n",
              "      <td>137.169998</td>\n",
              "      <td>131.119995</td>\n",
              "      <td>134.690002</td>\n",
              "      <td>131.740005</td>\n",
              "      <td>22717900</td>\n",
              "      <td>131.740005</td>\n",
              "    </tr>\n",
              "    <tr>\n",
              "      <th>2019-01-04</th>\n",
              "      <td>138.000000</td>\n",
              "      <td>133.750000</td>\n",
              "      <td>134.009995</td>\n",
              "      <td>137.949997</td>\n",
              "      <td>29002100</td>\n",
              "      <td>137.949997</td>\n",
              "    </tr>\n",
              "    <tr>\n",
              "      <th>2019-01-07</th>\n",
              "      <td>138.869995</td>\n",
              "      <td>135.910004</td>\n",
              "      <td>137.559998</td>\n",
              "      <td>138.050003</td>\n",
              "      <td>20089300</td>\n",
              "      <td>138.050003</td>\n",
              "    </tr>\n",
              "    <tr>\n",
              "      <th>2019-01-08</th>\n",
              "      <td>143.139999</td>\n",
              "      <td>139.539993</td>\n",
              "      <td>139.889999</td>\n",
              "      <td>142.529999</td>\n",
              "      <td>26263800</td>\n",
              "      <td>142.529999</td>\n",
              "    </tr>\n",
              "    <tr>\n",
              "      <th>...</th>\n",
              "      <td>...</td>\n",
              "      <td>...</td>\n",
              "      <td>...</td>\n",
              "      <td>...</td>\n",
              "      <td>...</td>\n",
              "      <td>...</td>\n",
              "    </tr>\n",
              "    <tr>\n",
              "      <th>2020-04-23</th>\n",
              "      <td>187.050003</td>\n",
              "      <td>183.149994</td>\n",
              "      <td>184.080002</td>\n",
              "      <td>185.130005</td>\n",
              "      <td>21426600</td>\n",
              "      <td>185.130005</td>\n",
              "    </tr>\n",
              "    <tr>\n",
              "      <th>2020-04-24</th>\n",
              "      <td>190.410004</td>\n",
              "      <td>180.830002</td>\n",
              "      <td>183.229996</td>\n",
              "      <td>190.070007</td>\n",
              "      <td>28868500</td>\n",
              "      <td>190.070007</td>\n",
              "    </tr>\n",
              "    <tr>\n",
              "      <th>2020-04-27</th>\n",
              "      <td>193.750000</td>\n",
              "      <td>187.410004</td>\n",
              "      <td>192.660004</td>\n",
              "      <td>187.500000</td>\n",
              "      <td>29197800</td>\n",
              "      <td>187.500000</td>\n",
              "    </tr>\n",
              "    <tr>\n",
              "      <th>2020-04-28</th>\n",
              "      <td>189.199997</td>\n",
              "      <td>182.559998</td>\n",
              "      <td>188.660004</td>\n",
              "      <td>182.910004</td>\n",
              "      <td>21731000</td>\n",
              "      <td>182.910004</td>\n",
              "    </tr>\n",
              "    <tr>\n",
              "      <th>2020-04-29</th>\n",
              "      <td>196.910004</td>\n",
              "      <td>190.000000</td>\n",
              "      <td>190.929993</td>\n",
              "      <td>194.190002</td>\n",
              "      <td>45954500</td>\n",
              "      <td>194.190002</td>\n",
              "    </tr>\n",
              "  </tbody>\n",
              "</table>\n",
              "<p>334 rows × 6 columns</p>\n",
              "</div>"
            ],
            "text/plain": [
              "                  High         Low  ...    Volume   Adj Close\n",
              "Date                                ...                      \n",
              "2019-01-02  137.509995  128.559998  ...  28146200  135.679993\n",
              "2019-01-03  137.169998  131.119995  ...  22717900  131.740005\n",
              "2019-01-04  138.000000  133.750000  ...  29002100  137.949997\n",
              "2019-01-07  138.869995  135.910004  ...  20089300  138.050003\n",
              "2019-01-08  143.139999  139.539993  ...  26263800  142.529999\n",
              "...                ...         ...  ...       ...         ...\n",
              "2020-04-23  187.050003  183.149994  ...  21426600  185.130005\n",
              "2020-04-24  190.410004  180.830002  ...  28868500  190.070007\n",
              "2020-04-27  193.750000  187.410004  ...  29197800  187.500000\n",
              "2020-04-28  189.199997  182.559998  ...  21731000  182.910004\n",
              "2020-04-29  196.910004  190.000000  ...  45954500  194.190002\n",
              "\n",
              "[334 rows x 6 columns]"
            ]
          },
          "metadata": {
            "tags": []
          },
          "execution_count": 23
        }
      ]
    },
    {
      "cell_type": "code",
      "metadata": {
        "id": "u2_3VTEQjs2r",
        "colab_type": "code",
        "colab": {
          "base_uri": "https://localhost:8080/",
          "height": 450
        },
        "outputId": "f53eefb5-aa1d-4345-d6b0-e7a3ac00a3f3"
      },
      "source": [
        "training_data = training_data.filter(['Open', 'High', 'Low', 'Close', 'Volume'])\n",
        "training_data"
      ],
      "execution_count": null,
      "outputs": [
        {
          "output_type": "execute_result",
          "data": {
            "text/html": [
              "<div>\n",
              "<style scoped>\n",
              "    .dataframe tbody tr th:only-of-type {\n",
              "        vertical-align: middle;\n",
              "    }\n",
              "\n",
              "    .dataframe tbody tr th {\n",
              "        vertical-align: top;\n",
              "    }\n",
              "\n",
              "    .dataframe thead th {\n",
              "        text-align: right;\n",
              "    }\n",
              "</style>\n",
              "<table border=\"1\" class=\"dataframe\">\n",
              "  <thead>\n",
              "    <tr style=\"text-align: right;\">\n",
              "      <th></th>\n",
              "      <th>Open</th>\n",
              "      <th>High</th>\n",
              "      <th>Low</th>\n",
              "      <th>Close</th>\n",
              "      <th>Volume</th>\n",
              "    </tr>\n",
              "    <tr>\n",
              "      <th>Date</th>\n",
              "      <th></th>\n",
              "      <th></th>\n",
              "      <th></th>\n",
              "      <th></th>\n",
              "      <th></th>\n",
              "    </tr>\n",
              "  </thead>\n",
              "  <tbody>\n",
              "    <tr>\n",
              "      <th>2012-05-18</th>\n",
              "      <td>42.049999</td>\n",
              "      <td>45.000000</td>\n",
              "      <td>38.000000</td>\n",
              "      <td>38.230000</td>\n",
              "      <td>573576400</td>\n",
              "    </tr>\n",
              "    <tr>\n",
              "      <th>2012-05-21</th>\n",
              "      <td>36.529999</td>\n",
              "      <td>36.660000</td>\n",
              "      <td>33.000000</td>\n",
              "      <td>34.029999</td>\n",
              "      <td>168192700</td>\n",
              "    </tr>\n",
              "    <tr>\n",
              "      <th>2012-05-22</th>\n",
              "      <td>32.610001</td>\n",
              "      <td>33.590000</td>\n",
              "      <td>30.940001</td>\n",
              "      <td>31.000000</td>\n",
              "      <td>101786600</td>\n",
              "    </tr>\n",
              "    <tr>\n",
              "      <th>2012-05-23</th>\n",
              "      <td>31.370001</td>\n",
              "      <td>32.500000</td>\n",
              "      <td>31.360001</td>\n",
              "      <td>32.000000</td>\n",
              "      <td>73600000</td>\n",
              "    </tr>\n",
              "    <tr>\n",
              "      <th>2012-05-24</th>\n",
              "      <td>32.950001</td>\n",
              "      <td>33.209999</td>\n",
              "      <td>31.770000</td>\n",
              "      <td>33.029999</td>\n",
              "      <td>50237200</td>\n",
              "    </tr>\n",
              "    <tr>\n",
              "      <th>...</th>\n",
              "      <td>...</td>\n",
              "      <td>...</td>\n",
              "      <td>...</td>\n",
              "      <td>...</td>\n",
              "      <td>...</td>\n",
              "    </tr>\n",
              "    <tr>\n",
              "      <th>2018-12-24</th>\n",
              "      <td>123.099998</td>\n",
              "      <td>129.740005</td>\n",
              "      <td>123.019997</td>\n",
              "      <td>124.059998</td>\n",
              "      <td>22066000</td>\n",
              "    </tr>\n",
              "    <tr>\n",
              "      <th>2018-12-26</th>\n",
              "      <td>126.000000</td>\n",
              "      <td>134.240005</td>\n",
              "      <td>125.889999</td>\n",
              "      <td>134.179993</td>\n",
              "      <td>39723400</td>\n",
              "    </tr>\n",
              "    <tr>\n",
              "      <th>2018-12-27</th>\n",
              "      <td>132.440002</td>\n",
              "      <td>134.990005</td>\n",
              "      <td>129.669998</td>\n",
              "      <td>134.520004</td>\n",
              "      <td>31202500</td>\n",
              "    </tr>\n",
              "    <tr>\n",
              "      <th>2018-12-28</th>\n",
              "      <td>135.339996</td>\n",
              "      <td>135.919998</td>\n",
              "      <td>132.199997</td>\n",
              "      <td>133.199997</td>\n",
              "      <td>22627600</td>\n",
              "    </tr>\n",
              "    <tr>\n",
              "      <th>2018-12-31</th>\n",
              "      <td>134.449997</td>\n",
              "      <td>134.639999</td>\n",
              "      <td>129.949997</td>\n",
              "      <td>131.089996</td>\n",
              "      <td>24625300</td>\n",
              "    </tr>\n",
              "  </tbody>\n",
              "</table>\n",
              "<p>1665 rows × 5 columns</p>\n",
              "</div>"
            ],
            "text/plain": [
              "                  Open        High         Low       Close     Volume\n",
              "Date                                                                 \n",
              "2012-05-18   42.049999   45.000000   38.000000   38.230000  573576400\n",
              "2012-05-21   36.529999   36.660000   33.000000   34.029999  168192700\n",
              "2012-05-22   32.610001   33.590000   30.940001   31.000000  101786600\n",
              "2012-05-23   31.370001   32.500000   31.360001   32.000000   73600000\n",
              "2012-05-24   32.950001   33.209999   31.770000   33.029999   50237200\n",
              "...                ...         ...         ...         ...        ...\n",
              "2018-12-24  123.099998  129.740005  123.019997  124.059998   22066000\n",
              "2018-12-26  126.000000  134.240005  125.889999  134.179993   39723400\n",
              "2018-12-27  132.440002  134.990005  129.669998  134.520004   31202500\n",
              "2018-12-28  135.339996  135.919998  132.199997  133.199997   22627600\n",
              "2018-12-31  134.449997  134.639999  129.949997  131.089996   24625300\n",
              "\n",
              "[1665 rows x 5 columns]"
            ]
          },
          "metadata": {
            "tags": []
          },
          "execution_count": 24
        }
      ]
    },
    {
      "cell_type": "code",
      "metadata": {
        "id": "ug4VgQE1jyy7",
        "colab_type": "code",
        "colab": {
          "base_uri": "https://localhost:8080/",
          "height": 136
        },
        "outputId": "f14b9517-81c9-4890-bc39-b25b20bb73b0"
      },
      "source": [
        "scaler = MinMaxScaler(feature_range=(0, 1))\n",
        "scaled_training_data = scaler.fit_transform(training_data)\n",
        "\n",
        "scaled_training_data"
      ],
      "execution_count": null,
      "outputs": [
        {
          "output_type": "execute_result",
          "data": {
            "text/plain": [
              "array([[0.12128111, 0.13341652, 0.10395486, 0.10261801, 1.        ],\n",
              "       [0.09335154, 0.09178937, 0.07853803, 0.08159383, 0.28587298],\n",
              "       [0.07351751, 0.07646618, 0.06806629, 0.06642639, 0.16889149],\n",
              "       ...,\n",
              "       [0.57862782, 0.58258052, 0.56994711, 0.58462234, 0.04455   ],\n",
              "       [0.59330093, 0.58722237, 0.58280803, 0.5780147 , 0.02944439],\n",
              "       [0.5887978 , 0.58083355, 0.57137045, 0.56745255, 0.03296355]])"
            ]
          },
          "metadata": {
            "tags": []
          },
          "execution_count": 25
        }
      ]
    },
    {
      "cell_type": "code",
      "metadata": {
        "id": "zU4Y18jFj1pE",
        "colab_type": "code",
        "colab": {}
      },
      "source": [
        "X_train = []\n",
        "y_train = []\n",
        "\n",
        "for i in range(60, scaled_training_data.shape[0]-60):\n",
        "    X_train.append(scaled_training_data[i-60:i])\n",
        "    y_train.append(scaled_training_data[i,[0, 3]])"
      ],
      "execution_count": null,
      "outputs": []
    },
    {
      "cell_type": "code",
      "metadata": {
        "id": "QUOTfi6ij5Ga",
        "colab_type": "code",
        "colab": {
          "base_uri": "https://localhost:8080/",
          "height": 34
        },
        "outputId": "679cf35b-cea9-4202-9a12-01bc67a3c81b"
      },
      "source": [
        "X_train, y_train = np.array(X_train), np.array(y_train)\n",
        "\n",
        "X_train.shape, y_train.shape"
      ],
      "execution_count": null,
      "outputs": [
        {
          "output_type": "execute_result",
          "data": {
            "text/plain": [
              "((1545, 60, 5), (1545, 2))"
            ]
          },
          "metadata": {
            "tags": []
          },
          "execution_count": 27
        }
      ]
    },
    {
      "cell_type": "code",
      "metadata": {
        "id": "p6Wxw6I2j8gi",
        "colab_type": "code",
        "colab": {
          "base_uri": "https://localhost:8080/",
          "height": 646
        },
        "outputId": "5305b5ef-9a55-4e53-8bd3-338acb50d65a"
      },
      "source": [
        "pip install tensorflow"
      ],
      "execution_count": null,
      "outputs": [
        {
          "output_type": "stream",
          "text": [
            "Requirement already satisfied: tensorflow in /usr/local/lib/python3.6/dist-packages (2.3.0)\n",
            "Requirement already satisfied: tensorflow-estimator<2.4.0,>=2.3.0 in /usr/local/lib/python3.6/dist-packages (from tensorflow) (2.3.0)\n",
            "Requirement already satisfied: termcolor>=1.1.0 in /usr/local/lib/python3.6/dist-packages (from tensorflow) (1.1.0)\n",
            "Requirement already satisfied: six>=1.12.0 in /usr/local/lib/python3.6/dist-packages (from tensorflow) (1.15.0)\n",
            "Requirement already satisfied: tensorboard<3,>=2.3.0 in /usr/local/lib/python3.6/dist-packages (from tensorflow) (2.3.0)\n",
            "Requirement already satisfied: h5py<2.11.0,>=2.10.0 in /usr/local/lib/python3.6/dist-packages (from tensorflow) (2.10.0)\n",
            "Requirement already satisfied: opt-einsum>=2.3.2 in /usr/local/lib/python3.6/dist-packages (from tensorflow) (3.3.0)\n",
            "Requirement already satisfied: wheel>=0.26 in /usr/local/lib/python3.6/dist-packages (from tensorflow) (0.34.2)\n",
            "Requirement already satisfied: absl-py>=0.7.0 in /usr/local/lib/python3.6/dist-packages (from tensorflow) (0.9.0)\n",
            "Requirement already satisfied: google-pasta>=0.1.8 in /usr/local/lib/python3.6/dist-packages (from tensorflow) (0.2.0)\n",
            "Requirement already satisfied: astunparse==1.6.3 in /usr/local/lib/python3.6/dist-packages (from tensorflow) (1.6.3)\n",
            "Requirement already satisfied: numpy<1.19.0,>=1.16.0 in /usr/local/lib/python3.6/dist-packages (from tensorflow) (1.18.5)\n",
            "Requirement already satisfied: scipy==1.4.1 in /usr/local/lib/python3.6/dist-packages (from tensorflow) (1.4.1)\n",
            "Requirement already satisfied: keras-preprocessing<1.2,>=1.1.1 in /usr/local/lib/python3.6/dist-packages (from tensorflow) (1.1.2)\n",
            "Requirement already satisfied: grpcio>=1.8.6 in /usr/local/lib/python3.6/dist-packages (from tensorflow) (1.30.0)\n",
            "Requirement already satisfied: wrapt>=1.11.1 in /usr/local/lib/python3.6/dist-packages (from tensorflow) (1.12.1)\n",
            "Requirement already satisfied: protobuf>=3.9.2 in /usr/local/lib/python3.6/dist-packages (from tensorflow) (3.12.4)\n",
            "Requirement already satisfied: gast==0.3.3 in /usr/local/lib/python3.6/dist-packages (from tensorflow) (0.3.3)\n",
            "Requirement already satisfied: google-auth-oauthlib<0.5,>=0.4.1 in /usr/local/lib/python3.6/dist-packages (from tensorboard<3,>=2.3.0->tensorflow) (0.4.1)\n",
            "Requirement already satisfied: requests<3,>=2.21.0 in /usr/local/lib/python3.6/dist-packages (from tensorboard<3,>=2.3.0->tensorflow) (2.23.0)\n",
            "Requirement already satisfied: setuptools>=41.0.0 in /usr/local/lib/python3.6/dist-packages (from tensorboard<3,>=2.3.0->tensorflow) (49.2.0)\n",
            "Requirement already satisfied: google-auth<2,>=1.6.3 in /usr/local/lib/python3.6/dist-packages (from tensorboard<3,>=2.3.0->tensorflow) (1.17.2)\n",
            "Requirement already satisfied: tensorboard-plugin-wit>=1.6.0 in /usr/local/lib/python3.6/dist-packages (from tensorboard<3,>=2.3.0->tensorflow) (1.7.0)\n",
            "Requirement already satisfied: werkzeug>=0.11.15 in /usr/local/lib/python3.6/dist-packages (from tensorboard<3,>=2.3.0->tensorflow) (1.0.1)\n",
            "Requirement already satisfied: markdown>=2.6.8 in /usr/local/lib/python3.6/dist-packages (from tensorboard<3,>=2.3.0->tensorflow) (3.2.2)\n",
            "Requirement already satisfied: requests-oauthlib>=0.7.0 in /usr/local/lib/python3.6/dist-packages (from google-auth-oauthlib<0.5,>=0.4.1->tensorboard<3,>=2.3.0->tensorflow) (1.3.0)\n",
            "Requirement already satisfied: urllib3!=1.25.0,!=1.25.1,<1.26,>=1.21.1 in /usr/local/lib/python3.6/dist-packages (from requests<3,>=2.21.0->tensorboard<3,>=2.3.0->tensorflow) (1.24.3)\n",
            "Requirement already satisfied: certifi>=2017.4.17 in /usr/local/lib/python3.6/dist-packages (from requests<3,>=2.21.0->tensorboard<3,>=2.3.0->tensorflow) (2020.6.20)\n",
            "Requirement already satisfied: idna<3,>=2.5 in /usr/local/lib/python3.6/dist-packages (from requests<3,>=2.21.0->tensorboard<3,>=2.3.0->tensorflow) (2.10)\n",
            "Requirement already satisfied: chardet<4,>=3.0.2 in /usr/local/lib/python3.6/dist-packages (from requests<3,>=2.21.0->tensorboard<3,>=2.3.0->tensorflow) (3.0.4)\n",
            "Requirement already satisfied: rsa<5,>=3.1.4; python_version >= \"3\" in /usr/local/lib/python3.6/dist-packages (from google-auth<2,>=1.6.3->tensorboard<3,>=2.3.0->tensorflow) (4.6)\n",
            "Requirement already satisfied: cachetools<5.0,>=2.0.0 in /usr/local/lib/python3.6/dist-packages (from google-auth<2,>=1.6.3->tensorboard<3,>=2.3.0->tensorflow) (4.1.1)\n",
            "Requirement already satisfied: pyasn1-modules>=0.2.1 in /usr/local/lib/python3.6/dist-packages (from google-auth<2,>=1.6.3->tensorboard<3,>=2.3.0->tensorflow) (0.2.8)\n",
            "Requirement already satisfied: importlib-metadata; python_version < \"3.8\" in /usr/local/lib/python3.6/dist-packages (from markdown>=2.6.8->tensorboard<3,>=2.3.0->tensorflow) (1.7.0)\n",
            "Requirement already satisfied: oauthlib>=3.0.0 in /usr/local/lib/python3.6/dist-packages (from requests-oauthlib>=0.7.0->google-auth-oauthlib<0.5,>=0.4.1->tensorboard<3,>=2.3.0->tensorflow) (3.1.0)\n",
            "Requirement already satisfied: pyasn1>=0.1.3 in /usr/local/lib/python3.6/dist-packages (from rsa<5,>=3.1.4; python_version >= \"3\"->google-auth<2,>=1.6.3->tensorboard<3,>=2.3.0->tensorflow) (0.4.8)\n",
            "Requirement already satisfied: zipp>=0.5 in /usr/local/lib/python3.6/dist-packages (from importlib-metadata; python_version < \"3.8\"->markdown>=2.6.8->tensorboard<3,>=2.3.0->tensorflow) (3.1.0)\n"
          ],
          "name": "stdout"
        }
      ]
    },
    {
      "cell_type": "code",
      "metadata": {
        "id": "IWvnR2zMkCE8",
        "colab_type": "code",
        "colab": {}
      },
      "source": [
        "from tensorflow import keras\n",
        "from tensorflow.keras.models import Sequential\n",
        "from tensorflow.keras.layers import LSTM, Dense, Dropout\n",
        "from sklearn.metrics import mean_squared_error"
      ],
      "execution_count": null,
      "outputs": []
    },
    {
      "cell_type": "code",
      "metadata": {
        "id": "z9pMrL2ckEZi",
        "colab_type": "code",
        "colab": {}
      },
      "source": [
        "model = Sequential()\n",
        "\n",
        "# Adding the first LSTM layer & Dropout\n",
        "model.add(LSTM(units = 50, return_sequences = True, input_shape = (X_train.shape[1], 5)))\n",
        "model.add(Dropout(0.2))\n",
        "\n",
        "# Adding the second LSTM layer & Dropout\n",
        "# model.add(LSTM(units = 50, return_sequences = True))\n",
        "# model.add(Dropout(0.2))\n",
        "\n",
        "# Adding the third LSTM layer & Dropout\n",
        "# model.add(LSTM(units = 50, return_sequences = True))\n",
        "# model.add(Dropout(0.2))\n",
        "\n",
        "# Adding the fourth LSTM layer & Dropout\n",
        "model.add(LSTM(units = 50, return_sequences = True))\n",
        "model.add(Dropout(0.2))\n",
        "\n",
        "# Adding the fifth LSTM layer & Dropout\n",
        "model.add(LSTM(units = 50))\n",
        "model.add(Dropout(0.2))\n",
        "\n",
        "# Adding the final Dense layer\n",
        "model.add(Dense(units = 2))"
      ],
      "execution_count": null,
      "outputs": []
    },
    {
      "cell_type": "code",
      "metadata": {
        "id": "Rc8n2DSkkJCB",
        "colab_type": "code",
        "colab": {
          "base_uri": "https://localhost:8080/",
          "height": 391
        },
        "outputId": "4092455d-c081-4e54-a26e-d797f34cc380"
      },
      "source": [
        "model.summary()\n"
      ],
      "execution_count": null,
      "outputs": [
        {
          "output_type": "stream",
          "text": [
            "Model: \"sequential\"\n",
            "_________________________________________________________________\n",
            "Layer (type)                 Output Shape              Param #   \n",
            "=================================================================\n",
            "lstm (LSTM)                  (None, 60, 50)            11200     \n",
            "_________________________________________________________________\n",
            "dropout (Dropout)            (None, 60, 50)            0         \n",
            "_________________________________________________________________\n",
            "lstm_1 (LSTM)                (None, 60, 50)            20200     \n",
            "_________________________________________________________________\n",
            "dropout_1 (Dropout)          (None, 60, 50)            0         \n",
            "_________________________________________________________________\n",
            "lstm_2 (LSTM)                (None, 50)                20200     \n",
            "_________________________________________________________________\n",
            "dropout_2 (Dropout)          (None, 50)                0         \n",
            "_________________________________________________________________\n",
            "dense (Dense)                (None, 2)                 102       \n",
            "=================================================================\n",
            "Total params: 51,702\n",
            "Trainable params: 51,702\n",
            "Non-trainable params: 0\n",
            "_________________________________________________________________\n"
          ],
          "name": "stdout"
        }
      ]
    },
    {
      "cell_type": "code",
      "metadata": {
        "id": "t1M36oXwkWvT",
        "colab_type": "code",
        "colab": {}
      },
      "source": [
        "model.compile(optimizer = 'adam', loss = 'mean_squared_error')"
      ],
      "execution_count": null,
      "outputs": []
    },
    {
      "cell_type": "code",
      "metadata": {
        "id": "yEjruFcjkaNI",
        "colab_type": "code",
        "colab": {
          "base_uri": "https://localhost:8080/",
          "height": 1000
        },
        "outputId": "d79ee5e0-0f73-43b0-b374-03a44305e562"
      },
      "source": [
        "model.fit(X_train, y_train, epochs=100, batch_size=32, validation_split=0.2)"
      ],
      "execution_count": null,
      "outputs": [
        {
          "output_type": "stream",
          "text": [
            "Epoch 1/100\n",
            "39/39 [==============================] - 4s 106ms/step - loss: 0.0147 - val_loss: 0.0119\n",
            "Epoch 2/100\n",
            "39/39 [==============================] - 3s 81ms/step - loss: 0.0029 - val_loss: 0.0040\n",
            "Epoch 3/100\n",
            "39/39 [==============================] - 3s 81ms/step - loss: 0.0025 - val_loss: 0.0030\n",
            "Epoch 4/100\n",
            "39/39 [==============================] - 3s 79ms/step - loss: 0.0023 - val_loss: 0.0033\n",
            "Epoch 5/100\n",
            "39/39 [==============================] - 3s 78ms/step - loss: 0.0021 - val_loss: 0.0042\n",
            "Epoch 6/100\n",
            "39/39 [==============================] - 3s 79ms/step - loss: 0.0022 - val_loss: 0.0058\n",
            "Epoch 7/100\n",
            "39/39 [==============================] - 3s 78ms/step - loss: 0.0020 - val_loss: 0.0022\n",
            "Epoch 8/100\n",
            "39/39 [==============================] - 3s 79ms/step - loss: 0.0018 - val_loss: 0.0019\n",
            "Epoch 9/100\n",
            "39/39 [==============================] - 3s 79ms/step - loss: 0.0019 - val_loss: 0.0029\n",
            "Epoch 10/100\n",
            "39/39 [==============================] - 3s 79ms/step - loss: 0.0019 - val_loss: 0.0053\n",
            "Epoch 11/100\n",
            "39/39 [==============================] - 3s 78ms/step - loss: 0.0016 - val_loss: 0.0030\n",
            "Epoch 12/100\n",
            "39/39 [==============================] - 3s 79ms/step - loss: 0.0016 - val_loss: 0.0018\n",
            "Epoch 13/100\n",
            "39/39 [==============================] - 3s 79ms/step - loss: 0.0017 - val_loss: 0.0019\n",
            "Epoch 14/100\n",
            "39/39 [==============================] - 3s 78ms/step - loss: 0.0014 - val_loss: 0.0023\n",
            "Epoch 15/100\n",
            "39/39 [==============================] - 3s 78ms/step - loss: 0.0014 - val_loss: 0.0034\n",
            "Epoch 16/100\n",
            "39/39 [==============================] - 3s 78ms/step - loss: 0.0013 - val_loss: 0.0016\n",
            "Epoch 17/100\n",
            "39/39 [==============================] - 3s 79ms/step - loss: 0.0013 - val_loss: 0.0023\n",
            "Epoch 18/100\n",
            "39/39 [==============================] - 3s 79ms/step - loss: 0.0013 - val_loss: 0.0037\n",
            "Epoch 19/100\n",
            "39/39 [==============================] - 3s 79ms/step - loss: 0.0012 - val_loss: 0.0034\n",
            "Epoch 20/100\n",
            "39/39 [==============================] - 3s 79ms/step - loss: 0.0013 - val_loss: 0.0016\n",
            "Epoch 21/100\n",
            "39/39 [==============================] - 3s 79ms/step - loss: 0.0013 - val_loss: 0.0026\n",
            "Epoch 22/100\n",
            "39/39 [==============================] - 3s 79ms/step - loss: 0.0012 - val_loss: 0.0056\n",
            "Epoch 23/100\n",
            "39/39 [==============================] - 3s 80ms/step - loss: 0.0011 - val_loss: 0.0027\n",
            "Epoch 24/100\n",
            "39/39 [==============================] - 3s 79ms/step - loss: 0.0011 - val_loss: 0.0035\n",
            "Epoch 25/100\n",
            "39/39 [==============================] - 3s 79ms/step - loss: 0.0011 - val_loss: 0.0028\n",
            "Epoch 26/100\n",
            "39/39 [==============================] - 3s 80ms/step - loss: 0.0012 - val_loss: 0.0021\n",
            "Epoch 27/100\n",
            "39/39 [==============================] - 3s 80ms/step - loss: 0.0012 - val_loss: 0.0015\n",
            "Epoch 28/100\n",
            "39/39 [==============================] - 3s 79ms/step - loss: 0.0011 - val_loss: 0.0036\n",
            "Epoch 29/100\n",
            "39/39 [==============================] - 3s 79ms/step - loss: 0.0010 - val_loss: 0.0023\n",
            "Epoch 30/100\n",
            "39/39 [==============================] - 3s 79ms/step - loss: 0.0010 - val_loss: 0.0014\n",
            "Epoch 31/100\n",
            "39/39 [==============================] - 3s 80ms/step - loss: 9.5486e-04 - val_loss: 0.0027\n",
            "Epoch 32/100\n",
            "39/39 [==============================] - 3s 80ms/step - loss: 8.8025e-04 - val_loss: 0.0038\n",
            "Epoch 33/100\n",
            "39/39 [==============================] - 3s 82ms/step - loss: 9.6039e-04 - val_loss: 0.0034\n",
            "Epoch 34/100\n",
            "39/39 [==============================] - 3s 81ms/step - loss: 9.7605e-04 - val_loss: 0.0019\n",
            "Epoch 35/100\n",
            "39/39 [==============================] - 3s 81ms/step - loss: 8.3231e-04 - val_loss: 0.0016\n",
            "Epoch 36/100\n",
            "39/39 [==============================] - 3s 82ms/step - loss: 7.9500e-04 - val_loss: 0.0015\n",
            "Epoch 37/100\n",
            "39/39 [==============================] - 3s 82ms/step - loss: 7.8873e-04 - val_loss: 0.0019\n",
            "Epoch 38/100\n",
            "39/39 [==============================] - 3s 80ms/step - loss: 8.1968e-04 - val_loss: 0.0019\n",
            "Epoch 39/100\n",
            "39/39 [==============================] - 3s 82ms/step - loss: 8.1577e-04 - val_loss: 0.0031\n",
            "Epoch 40/100\n",
            "39/39 [==============================] - 3s 84ms/step - loss: 8.6232e-04 - val_loss: 0.0014\n",
            "Epoch 41/100\n",
            "39/39 [==============================] - 3s 85ms/step - loss: 8.1524e-04 - val_loss: 0.0016\n",
            "Epoch 42/100\n",
            "39/39 [==============================] - 3s 85ms/step - loss: 9.3573e-04 - val_loss: 0.0042\n",
            "Epoch 43/100\n",
            "39/39 [==============================] - 3s 85ms/step - loss: 7.6280e-04 - val_loss: 0.0014\n",
            "Epoch 44/100\n",
            "39/39 [==============================] - 3s 82ms/step - loss: 8.0595e-04 - val_loss: 0.0013\n",
            "Epoch 45/100\n",
            "39/39 [==============================] - 3s 83ms/step - loss: 7.1843e-04 - val_loss: 0.0013\n",
            "Epoch 46/100\n",
            "39/39 [==============================] - 3s 84ms/step - loss: 7.5028e-04 - val_loss: 0.0016\n",
            "Epoch 47/100\n",
            "39/39 [==============================] - 3s 83ms/step - loss: 6.7397e-04 - val_loss: 0.0013\n",
            "Epoch 48/100\n",
            "39/39 [==============================] - 3s 82ms/step - loss: 7.0749e-04 - val_loss: 0.0022\n",
            "Epoch 49/100\n",
            "39/39 [==============================] - 3s 83ms/step - loss: 6.7443e-04 - val_loss: 0.0013\n",
            "Epoch 50/100\n",
            "39/39 [==============================] - 3s 81ms/step - loss: 7.3403e-04 - val_loss: 0.0015\n",
            "Epoch 51/100\n",
            "39/39 [==============================] - 3s 80ms/step - loss: 7.1184e-04 - val_loss: 0.0015\n",
            "Epoch 52/100\n",
            "39/39 [==============================] - 3s 81ms/step - loss: 6.9907e-04 - val_loss: 0.0012\n",
            "Epoch 53/100\n",
            "39/39 [==============================] - 3s 82ms/step - loss: 6.4531e-04 - val_loss: 0.0015\n",
            "Epoch 54/100\n",
            "39/39 [==============================] - 3s 82ms/step - loss: 5.8614e-04 - val_loss: 0.0013\n",
            "Epoch 55/100\n",
            "39/39 [==============================] - 3s 83ms/step - loss: 6.4039e-04 - val_loss: 0.0013\n",
            "Epoch 56/100\n",
            "39/39 [==============================] - 3s 82ms/step - loss: 6.2574e-04 - val_loss: 0.0015\n",
            "Epoch 57/100\n",
            "39/39 [==============================] - 3s 82ms/step - loss: 6.2388e-04 - val_loss: 0.0012\n",
            "Epoch 58/100\n",
            "39/39 [==============================] - 3s 82ms/step - loss: 6.9650e-04 - val_loss: 0.0012\n",
            "Epoch 59/100\n",
            "39/39 [==============================] - 3s 82ms/step - loss: 6.6997e-04 - val_loss: 0.0012\n",
            "Epoch 60/100\n",
            "39/39 [==============================] - 3s 81ms/step - loss: 6.3379e-04 - val_loss: 0.0011\n",
            "Epoch 61/100\n",
            "39/39 [==============================] - 3s 82ms/step - loss: 6.2309e-04 - val_loss: 0.0015\n",
            "Epoch 62/100\n",
            "39/39 [==============================] - 3s 84ms/step - loss: 5.8440e-04 - val_loss: 0.0043\n",
            "Epoch 63/100\n",
            "39/39 [==============================] - 3s 84ms/step - loss: 6.4569e-04 - val_loss: 0.0011\n",
            "Epoch 64/100\n",
            "39/39 [==============================] - 3s 83ms/step - loss: 6.0014e-04 - val_loss: 0.0016\n",
            "Epoch 65/100\n",
            "39/39 [==============================] - 3s 84ms/step - loss: 5.4779e-04 - val_loss: 0.0011\n",
            "Epoch 66/100\n",
            "39/39 [==============================] - 3s 83ms/step - loss: 6.2970e-04 - val_loss: 0.0011\n",
            "Epoch 67/100\n",
            "39/39 [==============================] - 3s 83ms/step - loss: 6.3907e-04 - val_loss: 0.0015\n",
            "Epoch 68/100\n",
            "39/39 [==============================] - 3s 83ms/step - loss: 5.1851e-04 - val_loss: 0.0011\n",
            "Epoch 69/100\n",
            "39/39 [==============================] - 3s 84ms/step - loss: 5.5355e-04 - val_loss: 0.0011\n",
            "Epoch 70/100\n",
            "39/39 [==============================] - 3s 83ms/step - loss: 6.1421e-04 - val_loss: 0.0011\n",
            "Epoch 71/100\n",
            "39/39 [==============================] - 3s 83ms/step - loss: 5.7791e-04 - val_loss: 0.0015\n",
            "Epoch 72/100\n",
            "39/39 [==============================] - 3s 83ms/step - loss: 5.7020e-04 - val_loss: 0.0017\n",
            "Epoch 73/100\n",
            "39/39 [==============================] - 3s 82ms/step - loss: 5.2182e-04 - val_loss: 0.0019\n",
            "Epoch 74/100\n",
            "39/39 [==============================] - 3s 82ms/step - loss: 5.8864e-04 - val_loss: 0.0011\n",
            "Epoch 75/100\n",
            "39/39 [==============================] - 3s 82ms/step - loss: 5.5133e-04 - val_loss: 0.0017\n",
            "Epoch 76/100\n",
            "39/39 [==============================] - 3s 81ms/step - loss: 5.8432e-04 - val_loss: 0.0012\n",
            "Epoch 77/100\n",
            "39/39 [==============================] - 3s 82ms/step - loss: 5.2431e-04 - val_loss: 0.0018\n",
            "Epoch 78/100\n",
            "39/39 [==============================] - 3s 82ms/step - loss: 6.0929e-04 - val_loss: 0.0022\n",
            "Epoch 79/100\n",
            "39/39 [==============================] - 3s 82ms/step - loss: 5.6663e-04 - val_loss: 0.0014\n",
            "Epoch 80/100\n",
            "39/39 [==============================] - 3s 82ms/step - loss: 5.7237e-04 - val_loss: 0.0014\n",
            "Epoch 81/100\n",
            "39/39 [==============================] - 3s 81ms/step - loss: 5.6757e-04 - val_loss: 0.0016\n",
            "Epoch 82/100\n",
            "39/39 [==============================] - 3s 82ms/step - loss: 5.2396e-04 - val_loss: 9.3650e-04\n",
            "Epoch 83/100\n",
            "39/39 [==============================] - 3s 81ms/step - loss: 5.0590e-04 - val_loss: 0.0012\n",
            "Epoch 84/100\n",
            "39/39 [==============================] - 3s 81ms/step - loss: 5.3927e-04 - val_loss: 9.1414e-04\n",
            "Epoch 85/100\n",
            "39/39 [==============================] - 3s 81ms/step - loss: 5.4135e-04 - val_loss: 9.5953e-04\n",
            "Epoch 86/100\n",
            "39/39 [==============================] - 3s 82ms/step - loss: 5.4672e-04 - val_loss: 8.9788e-04\n",
            "Epoch 87/100\n",
            "39/39 [==============================] - 3s 81ms/step - loss: 4.8788e-04 - val_loss: 0.0011\n",
            "Epoch 88/100\n",
            "39/39 [==============================] - 3s 82ms/step - loss: 4.6007e-04 - val_loss: 9.6959e-04\n",
            "Epoch 89/100\n",
            "39/39 [==============================] - 3s 82ms/step - loss: 5.0707e-04 - val_loss: 0.0010\n",
            "Epoch 90/100\n",
            "39/39 [==============================] - 3s 81ms/step - loss: 4.7480e-04 - val_loss: 0.0011\n",
            "Epoch 91/100\n",
            "39/39 [==============================] - 3s 82ms/step - loss: 5.4249e-04 - val_loss: 0.0012\n",
            "Epoch 92/100\n",
            "39/39 [==============================] - 3s 82ms/step - loss: 4.9366e-04 - val_loss: 0.0013\n",
            "Epoch 93/100\n",
            "39/39 [==============================] - 3s 81ms/step - loss: 4.8444e-04 - val_loss: 8.8566e-04\n",
            "Epoch 94/100\n",
            "39/39 [==============================] - 3s 81ms/step - loss: 5.1260e-04 - val_loss: 0.0011\n",
            "Epoch 95/100\n",
            "39/39 [==============================] - 3s 84ms/step - loss: 5.2298e-04 - val_loss: 0.0022\n",
            "Epoch 96/100\n",
            "39/39 [==============================] - 3s 82ms/step - loss: 5.7629e-04 - val_loss: 0.0013\n",
            "Epoch 97/100\n",
            "39/39 [==============================] - 3s 82ms/step - loss: 4.5555e-04 - val_loss: 9.0971e-04\n",
            "Epoch 98/100\n",
            "39/39 [==============================] - 3s 82ms/step - loss: 4.5752e-04 - val_loss: 0.0012\n",
            "Epoch 99/100\n",
            "39/39 [==============================] - 3s 81ms/step - loss: 5.0329e-04 - val_loss: 8.8821e-04\n",
            "Epoch 100/100\n",
            "39/39 [==============================] - 3s 81ms/step - loss: 4.9951e-04 - val_loss: 8.2920e-04\n"
          ],
          "name": "stdout"
        },
        {
          "output_type": "execute_result",
          "data": {
            "text/plain": [
              "<tensorflow.python.keras.callbacks.History at 0x7f822bd18668>"
            ]
          },
          "metadata": {
            "tags": []
          },
          "execution_count": 33
        }
      ]
    },
    {
      "cell_type": "code",
      "metadata": {
        "id": "3C12EJw4kcdG",
        "colab_type": "code",
        "colab": {
          "base_uri": "https://localhost:8080/",
          "height": 156
        },
        "outputId": "fb6c510e-3ca6-4b74-a90a-ebe03f8e886c"
      },
      "source": [
        "model.save('fb_stock_predictor')\n"
      ],
      "execution_count": null,
      "outputs": [
        {
          "output_type": "stream",
          "text": [
            "WARNING:tensorflow:From /usr/local/lib/python3.6/dist-packages/tensorflow/python/training/tracking/tracking.py:111: Model.state_updates (from tensorflow.python.keras.engine.training) is deprecated and will be removed in a future version.\n",
            "Instructions for updating:\n",
            "This property should not be used in TensorFlow 2.0, as updates are applied automatically.\n",
            "WARNING:tensorflow:From /usr/local/lib/python3.6/dist-packages/tensorflow/python/training/tracking/tracking.py:111: Layer.updates (from tensorflow.python.keras.engine.base_layer) is deprecated and will be removed in a future version.\n",
            "Instructions for updating:\n",
            "This property should not be used in TensorFlow 2.0, as updates are applied automatically.\n",
            "INFO:tensorflow:Assets written to: fb_stock_predictor/assets\n"
          ],
          "name": "stdout"
        }
      ]
    },
    {
      "cell_type": "code",
      "metadata": {
        "id": "q_bNdXmMkfqo",
        "colab_type": "code",
        "colab": {
          "base_uri": "https://localhost:8080/",
          "height": 450
        },
        "outputId": "465cd587-10ab-420d-f27a-4693dec64f6c"
      },
      "source": [
        "testing_data = testing_data.filter(['Open', 'High', 'Low', 'Close', 'Volume'])\n",
        "testing_data"
      ],
      "execution_count": null,
      "outputs": [
        {
          "output_type": "execute_result",
          "data": {
            "text/html": [
              "<div>\n",
              "<style scoped>\n",
              "    .dataframe tbody tr th:only-of-type {\n",
              "        vertical-align: middle;\n",
              "    }\n",
              "\n",
              "    .dataframe tbody tr th {\n",
              "        vertical-align: top;\n",
              "    }\n",
              "\n",
              "    .dataframe thead th {\n",
              "        text-align: right;\n",
              "    }\n",
              "</style>\n",
              "<table border=\"1\" class=\"dataframe\">\n",
              "  <thead>\n",
              "    <tr style=\"text-align: right;\">\n",
              "      <th></th>\n",
              "      <th>Open</th>\n",
              "      <th>High</th>\n",
              "      <th>Low</th>\n",
              "      <th>Close</th>\n",
              "      <th>Volume</th>\n",
              "    </tr>\n",
              "    <tr>\n",
              "      <th>Date</th>\n",
              "      <th></th>\n",
              "      <th></th>\n",
              "      <th></th>\n",
              "      <th></th>\n",
              "      <th></th>\n",
              "    </tr>\n",
              "  </thead>\n",
              "  <tbody>\n",
              "    <tr>\n",
              "      <th>2019-01-02</th>\n",
              "      <td>128.990005</td>\n",
              "      <td>137.509995</td>\n",
              "      <td>128.559998</td>\n",
              "      <td>135.679993</td>\n",
              "      <td>28146200</td>\n",
              "    </tr>\n",
              "    <tr>\n",
              "      <th>2019-01-03</th>\n",
              "      <td>134.690002</td>\n",
              "      <td>137.169998</td>\n",
              "      <td>131.119995</td>\n",
              "      <td>131.740005</td>\n",
              "      <td>22717900</td>\n",
              "    </tr>\n",
              "    <tr>\n",
              "      <th>2019-01-04</th>\n",
              "      <td>134.009995</td>\n",
              "      <td>138.000000</td>\n",
              "      <td>133.750000</td>\n",
              "      <td>137.949997</td>\n",
              "      <td>29002100</td>\n",
              "    </tr>\n",
              "    <tr>\n",
              "      <th>2019-01-07</th>\n",
              "      <td>137.559998</td>\n",
              "      <td>138.869995</td>\n",
              "      <td>135.910004</td>\n",
              "      <td>138.050003</td>\n",
              "      <td>20089300</td>\n",
              "    </tr>\n",
              "    <tr>\n",
              "      <th>2019-01-08</th>\n",
              "      <td>139.889999</td>\n",
              "      <td>143.139999</td>\n",
              "      <td>139.539993</td>\n",
              "      <td>142.529999</td>\n",
              "      <td>26263800</td>\n",
              "    </tr>\n",
              "    <tr>\n",
              "      <th>...</th>\n",
              "      <td>...</td>\n",
              "      <td>...</td>\n",
              "      <td>...</td>\n",
              "      <td>...</td>\n",
              "      <td>...</td>\n",
              "    </tr>\n",
              "    <tr>\n",
              "      <th>2020-04-23</th>\n",
              "      <td>184.080002</td>\n",
              "      <td>187.050003</td>\n",
              "      <td>183.149994</td>\n",
              "      <td>185.130005</td>\n",
              "      <td>21426600</td>\n",
              "    </tr>\n",
              "    <tr>\n",
              "      <th>2020-04-24</th>\n",
              "      <td>183.229996</td>\n",
              "      <td>190.410004</td>\n",
              "      <td>180.830002</td>\n",
              "      <td>190.070007</td>\n",
              "      <td>28868500</td>\n",
              "    </tr>\n",
              "    <tr>\n",
              "      <th>2020-04-27</th>\n",
              "      <td>192.660004</td>\n",
              "      <td>193.750000</td>\n",
              "      <td>187.410004</td>\n",
              "      <td>187.500000</td>\n",
              "      <td>29197800</td>\n",
              "    </tr>\n",
              "    <tr>\n",
              "      <th>2020-04-28</th>\n",
              "      <td>188.660004</td>\n",
              "      <td>189.199997</td>\n",
              "      <td>182.559998</td>\n",
              "      <td>182.910004</td>\n",
              "      <td>21731000</td>\n",
              "    </tr>\n",
              "    <tr>\n",
              "      <th>2020-04-29</th>\n",
              "      <td>190.929993</td>\n",
              "      <td>196.910004</td>\n",
              "      <td>190.000000</td>\n",
              "      <td>194.190002</td>\n",
              "      <td>45954500</td>\n",
              "    </tr>\n",
              "  </tbody>\n",
              "</table>\n",
              "<p>334 rows × 5 columns</p>\n",
              "</div>"
            ],
            "text/plain": [
              "                  Open        High         Low       Close    Volume\n",
              "Date                                                                \n",
              "2019-01-02  128.990005  137.509995  128.559998  135.679993  28146200\n",
              "2019-01-03  134.690002  137.169998  131.119995  131.740005  22717900\n",
              "2019-01-04  134.009995  138.000000  133.750000  137.949997  29002100\n",
              "2019-01-07  137.559998  138.869995  135.910004  138.050003  20089300\n",
              "2019-01-08  139.889999  143.139999  139.539993  142.529999  26263800\n",
              "...                ...         ...         ...         ...       ...\n",
              "2020-04-23  184.080002  187.050003  183.149994  185.130005  21426600\n",
              "2020-04-24  183.229996  190.410004  180.830002  190.070007  28868500\n",
              "2020-04-27  192.660004  193.750000  187.410004  187.500000  29197800\n",
              "2020-04-28  188.660004  189.199997  182.559998  182.910004  21731000\n",
              "2020-04-29  190.929993  196.910004  190.000000  194.190002  45954500\n",
              "\n",
              "[334 rows x 5 columns]"
            ]
          },
          "metadata": {
            "tags": []
          },
          "execution_count": 36
        }
      ]
    },
    {
      "cell_type": "code",
      "metadata": {
        "id": "Ge2ANl_9kpqS",
        "colab_type": "code",
        "colab": {}
      },
      "source": [
        "past_60_days_data = training_data.tail(60)"
      ],
      "execution_count": null,
      "outputs": []
    },
    {
      "cell_type": "code",
      "metadata": {
        "id": "8qO0-qujkp1z",
        "colab_type": "code",
        "colab": {
          "base_uri": "https://localhost:8080/",
          "height": 450
        },
        "outputId": "5696278d-9c83-41e1-d447-ff3a913a9a71"
      },
      "source": [
        "new_testing_data = past_60_days_data.append(testing_data)\n",
        "new_testing_data"
      ],
      "execution_count": null,
      "outputs": [
        {
          "output_type": "execute_result",
          "data": {
            "text/html": [
              "<div>\n",
              "<style scoped>\n",
              "    .dataframe tbody tr th:only-of-type {\n",
              "        vertical-align: middle;\n",
              "    }\n",
              "\n",
              "    .dataframe tbody tr th {\n",
              "        vertical-align: top;\n",
              "    }\n",
              "\n",
              "    .dataframe thead th {\n",
              "        text-align: right;\n",
              "    }\n",
              "</style>\n",
              "<table border=\"1\" class=\"dataframe\">\n",
              "  <thead>\n",
              "    <tr style=\"text-align: right;\">\n",
              "      <th></th>\n",
              "      <th>Open</th>\n",
              "      <th>High</th>\n",
              "      <th>Low</th>\n",
              "      <th>Close</th>\n",
              "      <th>Volume</th>\n",
              "    </tr>\n",
              "    <tr>\n",
              "      <th>Date</th>\n",
              "      <th></th>\n",
              "      <th></th>\n",
              "      <th></th>\n",
              "      <th></th>\n",
              "      <th></th>\n",
              "    </tr>\n",
              "  </thead>\n",
              "  <tbody>\n",
              "    <tr>\n",
              "      <th>2018-10-04</th>\n",
              "      <td>161.460007</td>\n",
              "      <td>161.460007</td>\n",
              "      <td>157.350006</td>\n",
              "      <td>158.850006</td>\n",
              "      <td>25739600</td>\n",
              "    </tr>\n",
              "    <tr>\n",
              "      <th>2018-10-05</th>\n",
              "      <td>159.210007</td>\n",
              "      <td>160.899994</td>\n",
              "      <td>156.199997</td>\n",
              "      <td>157.330002</td>\n",
              "      <td>25744000</td>\n",
              "    </tr>\n",
              "    <tr>\n",
              "      <th>2018-10-08</th>\n",
              "      <td>155.539993</td>\n",
              "      <td>158.339996</td>\n",
              "      <td>154.389999</td>\n",
              "      <td>157.250000</td>\n",
              "      <td>24046000</td>\n",
              "    </tr>\n",
              "    <tr>\n",
              "      <th>2018-10-09</th>\n",
              "      <td>157.690002</td>\n",
              "      <td>160.589996</td>\n",
              "      <td>157.419998</td>\n",
              "      <td>157.899994</td>\n",
              "      <td>18844400</td>\n",
              "    </tr>\n",
              "    <tr>\n",
              "      <th>2018-10-10</th>\n",
              "      <td>156.820007</td>\n",
              "      <td>157.690002</td>\n",
              "      <td>151.309998</td>\n",
              "      <td>151.380005</td>\n",
              "      <td>30610000</td>\n",
              "    </tr>\n",
              "    <tr>\n",
              "      <th>...</th>\n",
              "      <td>...</td>\n",
              "      <td>...</td>\n",
              "      <td>...</td>\n",
              "      <td>...</td>\n",
              "      <td>...</td>\n",
              "    </tr>\n",
              "    <tr>\n",
              "      <th>2020-04-23</th>\n",
              "      <td>184.080002</td>\n",
              "      <td>187.050003</td>\n",
              "      <td>183.149994</td>\n",
              "      <td>185.130005</td>\n",
              "      <td>21426600</td>\n",
              "    </tr>\n",
              "    <tr>\n",
              "      <th>2020-04-24</th>\n",
              "      <td>183.229996</td>\n",
              "      <td>190.410004</td>\n",
              "      <td>180.830002</td>\n",
              "      <td>190.070007</td>\n",
              "      <td>28868500</td>\n",
              "    </tr>\n",
              "    <tr>\n",
              "      <th>2020-04-27</th>\n",
              "      <td>192.660004</td>\n",
              "      <td>193.750000</td>\n",
              "      <td>187.410004</td>\n",
              "      <td>187.500000</td>\n",
              "      <td>29197800</td>\n",
              "    </tr>\n",
              "    <tr>\n",
              "      <th>2020-04-28</th>\n",
              "      <td>188.660004</td>\n",
              "      <td>189.199997</td>\n",
              "      <td>182.559998</td>\n",
              "      <td>182.910004</td>\n",
              "      <td>21731000</td>\n",
              "    </tr>\n",
              "    <tr>\n",
              "      <th>2020-04-29</th>\n",
              "      <td>190.929993</td>\n",
              "      <td>196.910004</td>\n",
              "      <td>190.000000</td>\n",
              "      <td>194.190002</td>\n",
              "      <td>45954500</td>\n",
              "    </tr>\n",
              "  </tbody>\n",
              "</table>\n",
              "<p>394 rows × 5 columns</p>\n",
              "</div>"
            ],
            "text/plain": [
              "                  Open        High         Low       Close    Volume\n",
              "Date                                                                \n",
              "2018-10-04  161.460007  161.460007  157.350006  158.850006  25739600\n",
              "2018-10-05  159.210007  160.899994  156.199997  157.330002  25744000\n",
              "2018-10-08  155.539993  158.339996  154.389999  157.250000  24046000\n",
              "2018-10-09  157.690002  160.589996  157.419998  157.899994  18844400\n",
              "2018-10-10  156.820007  157.690002  151.309998  151.380005  30610000\n",
              "...                ...         ...         ...         ...       ...\n",
              "2020-04-23  184.080002  187.050003  183.149994  185.130005  21426600\n",
              "2020-04-24  183.229996  190.410004  180.830002  190.070007  28868500\n",
              "2020-04-27  192.660004  193.750000  187.410004  187.500000  29197800\n",
              "2020-04-28  188.660004  189.199997  182.559998  182.910004  21731000\n",
              "2020-04-29  190.929993  196.910004  190.000000  194.190002  45954500\n",
              "\n",
              "[394 rows x 5 columns]"
            ]
          },
          "metadata": {
            "tags": []
          },
          "execution_count": 38
        }
      ]
    },
    {
      "cell_type": "code",
      "metadata": {
        "id": "QE4hUD5akp_5",
        "colab_type": "code",
        "colab": {
          "base_uri": "https://localhost:8080/",
          "height": 136
        },
        "outputId": "cca278b3-f5ea-4b87-e7d9-c4008fa08cb4"
      },
      "source": [
        "scaled_testing_data = scaler.transform(new_testing_data)\n",
        "scaled_testing_data"
      ],
      "execution_count": null,
      "outputs": [
        {
          "output_type": "execute_result",
          "data": {
            "text/plain": [
              "array([[0.72546046, 0.71469933, 0.71065475, 0.70641241, 0.03492651],\n",
              "       [0.71407613, 0.71190415, 0.70480884, 0.69880363, 0.03493426],\n",
              "       [0.69550694, 0.69912653, 0.69560795, 0.69840316, 0.03194305],\n",
              "       ...,\n",
              "       [0.88332323, 0.87586725, 0.86346076, 0.8498273 , 0.04101851],\n",
              "       [0.86308441, 0.85315698, 0.8388064 , 0.8268509 , 0.02786493],\n",
              "       [0.87456988, 0.89163967, 0.87662666, 0.88331583, 0.07053724]])"
            ]
          },
          "metadata": {
            "tags": []
          },
          "execution_count": 39
        }
      ]
    },
    {
      "cell_type": "code",
      "metadata": {
        "id": "I0uSTq_XkqDt",
        "colab_type": "code",
        "colab": {}
      },
      "source": [
        ""
      ],
      "execution_count": null,
      "outputs": []
    },
    {
      "cell_type": "code",
      "metadata": {
        "id": "6BDcR4wwkp-C",
        "colab_type": "code",
        "colab": {}
      },
      "source": [
        "X_test = []\n",
        "y_test = []\n",
        "\n",
        "for i in range(60, scaled_testing_data.shape[0]):\n",
        "    X_test.append(scaled_testing_data[i-60:i])\n",
        "    y_test.append(scaled_testing_data[i,[0,3]])"
      ],
      "execution_count": null,
      "outputs": []
    },
    {
      "cell_type": "code",
      "metadata": {
        "id": "f-A41O2fkp8O",
        "colab_type": "code",
        "colab": {
          "base_uri": "https://localhost:8080/",
          "height": 34
        },
        "outputId": "981c21ec-6270-4f09-94f5-b3e0945c6be1"
      },
      "source": [
        "\n",
        "# Converting Lists Into Numpy Array\n",
        "X_test, y_test = np.array(X_test), np.array(y_test)\n",
        "\n",
        "X_test.shape, y_test.shape"
      ],
      "execution_count": null,
      "outputs": [
        {
          "output_type": "execute_result",
          "data": {
            "text/plain": [
              "((334, 60, 5), (334, 2))"
            ]
          },
          "metadata": {
            "tags": []
          },
          "execution_count": 41
        }
      ]
    },
    {
      "cell_type": "code",
      "metadata": {
        "id": "iD75aYsnkp6n",
        "colab_type": "code",
        "colab": {
          "base_uri": "https://localhost:8080/",
          "height": 51
        },
        "outputId": "6bec4f00-c665-408f-f9b1-521cbf25da3f"
      },
      "source": [
        "\n",
        "# Evaluate The Model\n",
        "loss = model.evaluate(X_test, y_test)\n",
        "loss"
      ],
      "execution_count": null,
      "outputs": [
        {
          "output_type": "stream",
          "text": [
            "11/11 [==============================] - 0s 17ms/step - loss: 0.0010\n"
          ],
          "name": "stdout"
        },
        {
          "output_type": "execute_result",
          "data": {
            "text/plain": [
              "0.001004435122013092"
            ]
          },
          "metadata": {
            "tags": []
          },
          "execution_count": 42
        }
      ]
    },
    {
      "cell_type": "code",
      "metadata": {
        "id": "Gj0FVSdFkp4k",
        "colab_type": "code",
        "colab": {}
      },
      "source": [
        "\n",
        "# Load The Model\n",
        "model = keras.models.load_model('fb_stock_predictor')\n"
      ],
      "execution_count": null,
      "outputs": []
    },
    {
      "cell_type": "code",
      "metadata": {
        "id": "0aSh8TO_lBRP",
        "colab_type": "code",
        "colab": {}
      },
      "source": [
        "\n",
        "# Make Predictions\n",
        "predictions = model.predict(X_test)\n",
        "\n",
        "# Predictions"
      ],
      "execution_count": null,
      "outputs": []
    },
    {
      "cell_type": "code",
      "metadata": {
        "id": "joYEWCIAlBwh",
        "colab_type": "code",
        "colab": {
          "base_uri": "https://localhost:8080/",
          "height": 34
        },
        "outputId": "4f43fc3a-5ab1-44c2-ce62-8fcd70df5b91"
      },
      "source": [
        "\n",
        "# Find The Mean Squared Error\n",
        "mean_error = mean_squared_error(y_test, predictions)\n",
        "\n",
        "mean_error"
      ],
      "execution_count": null,
      "outputs": [
        {
          "output_type": "execute_result",
          "data": {
            "text/plain": [
              "0.0010044351102992022"
            ]
          },
          "metadata": {
            "tags": []
          },
          "execution_count": 45
        }
      ]
    },
    {
      "cell_type": "code",
      "metadata": {
        "id": "2RFWIEbQlJkZ",
        "colab_type": "code",
        "colab": {
          "base_uri": "https://localhost:8080/",
          "height": 51
        },
        "outputId": "8dbb1054-4aba-406f-f1c7-06572e278f2d"
      },
      "source": [
        "# Check Scale\n",
        "scaler.scale_"
      ],
      "execution_count": null,
      "outputs": [
        {
          "output_type": "execute_result",
          "data": {
            "text/plain": [
              "array([5.05970448e-03, 4.99126542e-03, 5.08336709e-03, 5.00575661e-03,\n",
              "       1.76160763e-09])"
            ]
          },
          "metadata": {
            "tags": []
          },
          "execution_count": 46
        }
      ]
    },
    {
      "cell_type": "code",
      "metadata": {
        "id": "m2p9ta0JlJpX",
        "colab_type": "code",
        "colab": {}
      },
      "source": [
        "\n",
        "scale_open = 1/5.05970449e-03\n",
        "scale_close = 1/5.00575662e-03\n",
        "\n",
        "# Unscaling The Predictions\n",
        "predicted_open = predictions[:, 0]\n",
        "predicted_close = predictions[:, 1]\n",
        "\n",
        "predicted_open = predicted_open * scale_open\n",
        "predicted_close = predicted_close * scale_close"
      ],
      "execution_count": null,
      "outputs": []
    },
    {
      "cell_type": "code",
      "metadata": {
        "id": "hhmRRAKWlJnk",
        "colab_type": "code",
        "colab": {}
      },
      "source": [
        "# Unscaling the y_test\n",
        "actual_open = y_test[:, 0]\n",
        "actual_close = y_test[:, 1]\n",
        "\n",
        "actual_open = actual_open * scale_open\n",
        "actual_close = actual_close * scale_close"
      ],
      "execution_count": null,
      "outputs": []
    },
    {
      "cell_type": "code",
      "metadata": {
        "id": "3q4R_PoFlY7Y",
        "colab_type": "code",
        "colab": {
          "base_uri": "https://localhost:8080/",
          "height": 419
        },
        "outputId": "6103f94e-5683-42f9-c9d2-54e890bdd510"
      },
      "source": [
        "\n",
        "# Create The DataFrame For Actual_Open VS Predicted_Open\n",
        "new_open_df = pd.DataFrame({\"Actual Open\": actual_open, \"Predicted Open\": predicted_open})\n",
        "\n",
        "new_open_df"
      ],
      "execution_count": null,
      "outputs": [
        {
          "output_type": "execute_result",
          "data": {
            "text/html": [
              "<div>\n",
              "<style scoped>\n",
              "    .dataframe tbody tr th:only-of-type {\n",
              "        vertical-align: middle;\n",
              "    }\n",
              "\n",
              "    .dataframe tbody tr th {\n",
              "        vertical-align: top;\n",
              "    }\n",
              "\n",
              "    .dataframe thead th {\n",
              "        text-align: right;\n",
              "    }\n",
              "</style>\n",
              "<table border=\"1\" class=\"dataframe\">\n",
              "  <thead>\n",
              "    <tr style=\"text-align: right;\">\n",
              "      <th></th>\n",
              "      <th>Actual Open</th>\n",
              "      <th>Predicted Open</th>\n",
              "    </tr>\n",
              "  </thead>\n",
              "  <tbody>\n",
              "    <tr>\n",
              "      <th>0</th>\n",
              "      <td>110.910005</td>\n",
              "      <td>116.833160</td>\n",
              "    </tr>\n",
              "    <tr>\n",
              "      <th>1</th>\n",
              "      <td>116.610002</td>\n",
              "      <td>117.163208</td>\n",
              "    </tr>\n",
              "    <tr>\n",
              "      <th>2</th>\n",
              "      <td>115.929994</td>\n",
              "      <td>117.575523</td>\n",
              "    </tr>\n",
              "    <tr>\n",
              "      <th>3</th>\n",
              "      <td>119.479997</td>\n",
              "      <td>118.239983</td>\n",
              "    </tr>\n",
              "    <tr>\n",
              "      <th>4</th>\n",
              "      <td>121.809999</td>\n",
              "      <td>119.100182</td>\n",
              "    </tr>\n",
              "    <tr>\n",
              "      <th>...</th>\n",
              "      <td>...</td>\n",
              "      <td>...</td>\n",
              "    </tr>\n",
              "    <tr>\n",
              "      <th>329</th>\n",
              "      <td>166.000002</td>\n",
              "      <td>159.197876</td>\n",
              "    </tr>\n",
              "    <tr>\n",
              "      <th>330</th>\n",
              "      <td>165.149995</td>\n",
              "      <td>160.300201</td>\n",
              "    </tr>\n",
              "    <tr>\n",
              "      <th>331</th>\n",
              "      <td>174.580003</td>\n",
              "      <td>161.982315</td>\n",
              "    </tr>\n",
              "    <tr>\n",
              "      <th>332</th>\n",
              "      <td>170.580003</td>\n",
              "      <td>164.019699</td>\n",
              "    </tr>\n",
              "    <tr>\n",
              "      <th>333</th>\n",
              "      <td>172.849992</td>\n",
              "      <td>165.544647</td>\n",
              "    </tr>\n",
              "  </tbody>\n",
              "</table>\n",
              "<p>334 rows × 2 columns</p>\n",
              "</div>"
            ],
            "text/plain": [
              "     Actual Open  Predicted Open\n",
              "0     110.910005      116.833160\n",
              "1     116.610002      117.163208\n",
              "2     115.929994      117.575523\n",
              "3     119.479997      118.239983\n",
              "4     121.809999      119.100182\n",
              "..           ...             ...\n",
              "329   166.000002      159.197876\n",
              "330   165.149995      160.300201\n",
              "331   174.580003      161.982315\n",
              "332   170.580003      164.019699\n",
              "333   172.849992      165.544647\n",
              "\n",
              "[334 rows x 2 columns]"
            ]
          },
          "metadata": {
            "tags": []
          },
          "execution_count": 49
        }
      ]
    },
    {
      "cell_type": "code",
      "metadata": {
        "id": "j3qDj7zLlkmr",
        "colab_type": "code",
        "colab": {
          "base_uri": "https://localhost:8080/",
          "height": 410
        },
        "outputId": "d43684c7-7511-4bfc-f731-a3abf75d349d"
      },
      "source": [
        "sns.set(style='darkgrid')\n",
        "plt.figure(figsize=(15, 6))\n",
        "\n",
        "plt.title(\"Facebook's Stock Market Open Price Predictions\")\n",
        "plt.xlabel('Timestamps')\n",
        "plt.ylabel('Open')\n",
        "\n",
        "plt.plot(new_open_df['Actual Open'], linewidth=3, color='green')\n",
        "plt.plot(new_open_df['Predicted Open'], linewidth=3, color='red')\n",
        "\n",
        "plt.legend(['Test Open', 'Prediction'], loc='upper left')\n",
        "plt.savefig('facebook_stock_prediction_1.png', dpi=100)\n",
        "plt.show()\n"
      ],
      "execution_count": null,
      "outputs": [
        {
          "output_type": "display_data",
          "data": {
            "image/png": "[encoded data removed]",
            "text/plain": [
              "<Figure size 1080x432 with 1 Axes>"
            ]
          },
          "metadata": {
            "tags": []
          }
        }
      ]
    },
    {
      "cell_type": "code",
      "metadata": {
        "id": "mz3shpyBlqlq",
        "colab_type": "code",
        "colab": {
          "base_uri": "https://localhost:8080/",
          "height": 419
        },
        "outputId": "8ac1c9ea-2d6f-4103-a804-50ced0646607"
      },
      "source": [
        "\n",
        "# Create The DataFrame For Actual_Close VS Predicted_Close\n",
        "new_close_df = pd.DataFrame({\"Actual Close\": actual_close, \"Predicted Close\": predicted_close})\n",
        "\n",
        "new_close_df"
      ],
      "execution_count": null,
      "outputs": [
        {
          "output_type": "execute_result",
          "data": {
            "text/html": [
              "<div>\n",
              "<style scoped>\n",
              "    .dataframe tbody tr th:only-of-type {\n",
              "        vertical-align: middle;\n",
              "    }\n",
              "\n",
              "    .dataframe tbody tr th {\n",
              "        vertical-align: top;\n",
              "    }\n",
              "\n",
              "    .dataframe thead th {\n",
              "        text-align: right;\n",
              "    }\n",
              "</style>\n",
              "<table border=\"1\" class=\"dataframe\">\n",
              "  <thead>\n",
              "    <tr style=\"text-align: right;\">\n",
              "      <th></th>\n",
              "      <th>Actual Close</th>\n",
              "      <th>Predicted Close</th>\n",
              "    </tr>\n",
              "  </thead>\n",
              "  <tbody>\n",
              "    <tr>\n",
              "      <th>0</th>\n",
              "      <td>117.949993</td>\n",
              "      <td>117.075554</td>\n",
              "    </tr>\n",
              "    <tr>\n",
              "      <th>1</th>\n",
              "      <td>114.010006</td>\n",
              "      <td>117.426834</td>\n",
              "    </tr>\n",
              "    <tr>\n",
              "      <th>2</th>\n",
              "      <td>120.219997</td>\n",
              "      <td>117.852173</td>\n",
              "    </tr>\n",
              "    <tr>\n",
              "      <th>3</th>\n",
              "      <td>120.320003</td>\n",
              "      <td>118.523376</td>\n",
              "    </tr>\n",
              "    <tr>\n",
              "      <th>4</th>\n",
              "      <td>124.799999</td>\n",
              "      <td>119.385811</td>\n",
              "    </tr>\n",
              "    <tr>\n",
              "      <th>...</th>\n",
              "      <td>...</td>\n",
              "      <td>...</td>\n",
              "    </tr>\n",
              "    <tr>\n",
              "      <th>329</th>\n",
              "      <td>167.400005</td>\n",
              "      <td>159.290054</td>\n",
              "    </tr>\n",
              "    <tr>\n",
              "      <th>330</th>\n",
              "      <td>172.340007</td>\n",
              "      <td>160.388321</td>\n",
              "    </tr>\n",
              "    <tr>\n",
              "      <th>331</th>\n",
              "      <td>169.770000</td>\n",
              "      <td>162.067947</td>\n",
              "    </tr>\n",
              "    <tr>\n",
              "      <th>332</th>\n",
              "      <td>165.180004</td>\n",
              "      <td>164.099380</td>\n",
              "    </tr>\n",
              "    <tr>\n",
              "      <th>333</th>\n",
              "      <td>176.460002</td>\n",
              "      <td>165.617554</td>\n",
              "    </tr>\n",
              "  </tbody>\n",
              "</table>\n",
              "<p>334 rows × 2 columns</p>\n",
              "</div>"
            ],
            "text/plain": [
              "     Actual Close  Predicted Close\n",
              "0      117.949993       117.075554\n",
              "1      114.010006       117.426834\n",
              "2      120.219997       117.852173\n",
              "3      120.320003       118.523376\n",
              "4      124.799999       119.385811\n",
              "..            ...              ...\n",
              "329    167.400005       159.290054\n",
              "330    172.340007       160.388321\n",
              "331    169.770000       162.067947\n",
              "332    165.180004       164.099380\n",
              "333    176.460002       165.617554\n",
              "\n",
              "[334 rows x 2 columns]"
            ]
          },
          "metadata": {
            "tags": []
          },
          "execution_count": 52
        }
      ]
    },
    {
      "cell_type": "code",
      "metadata": {
        "id": "VHw3Fg2Llq48",
        "colab_type": "code",
        "colab": {
          "base_uri": "https://localhost:8080/",
          "height": 410
        },
        "outputId": "06a7b5e4-fea4-460b-caa5-3ea7814bafe3"
      },
      "source": [
        "# Visualizing The Open Prices\n",
        "sns.set(style='darkgrid')\n",
        "plt.figure(figsize=(15, 6))\n",
        "\n",
        "plt.title(\"Facebook's Stock Market Close Price Predictions\")\n",
        "plt.xlabel('Timestamps')\n",
        "plt.ylabel('Close')\n",
        "\n",
        "plt.plot(new_close_df['Actual Close'], linewidth=3, color='purple')\n",
        "plt.plot(new_close_df['Predicted Close'], linewidth=3, color='orange')\n",
        "\n",
        "plt.legend(['Test Close', 'Prediction'], loc='upper left')\n",
        "plt.savefig('facebook_stock_prediction_2.png', dpi=100)\n",
        "plt.show()"
      ],
      "execution_count": null,
      "outputs": [
        {
          "output_type": "display_data",
          "data": {
            "image/png": "[encoded data removed]",
            "text/plain": [
              "<Figure size 1080x432 with 1 Axes>"
            ]
          },
          "metadata": {
            "tags": []
          }
        }
      ]
    },
    {
      "cell_type": "code",
      "metadata": {
        "id": "sT3GJbhhlqYN",
        "colab_type": "code",
        "colab": {}
      },
      "source": [
        ""
      ],
      "execution_count": null,
      "outputs": []
    }
  ]
}