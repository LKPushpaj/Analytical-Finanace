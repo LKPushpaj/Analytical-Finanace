{
  "nbformat": 4,
  "nbformat_minor": 0,
  "metadata": {
    "colab": {
      "name": "portfolio optimisation",
      "provenance": []
    },
    "kernelspec": {
      "name": "python3",
      "display_name": "Python 3"
    }
  },
  "cells": [
    {
      "cell_type": "code",
      "metadata": {
        "id": "ll0q-yEk7jPC",
        "colab_type": "code",
        "colab": {}
      },
      "source": [
        "from datetime import datetime \n",
        "import numpy as np \n",
        "import pandas as pd\n",
        "import pandas_datareader as web\n",
        "import matplotlib.pyplot as plt\n",
        "plt.style.use('fivethirtyeight') "
      ],
      "execution_count": null,
      "outputs": []
    },
    {
      "cell_type": "code",
      "metadata": {
        "id": "2-JM_R-58wZH",
        "colab_type": "code",
        "colab": {}
      },
      "source": [
        "assets =['FB','AMZN','AAPL','NFLX','GOOG']\n",
        "\n"
      ],
      "execution_count": null,
      "outputs": []
    },
    {
      "cell_type": "code",
      "metadata": {
        "id": "E4cSmfNM8-Ow",
        "colab_type": "code",
        "colab": {}
      },
      "source": [
        "weights = np.array([0.2,0.2,0.2,0.2,0.2])\n",
        "startStockDate='2013-01-01'\n",
        "today = datetime.today().strftime('%Y-%m-%d')"
      ],
      "execution_count": null,
      "outputs": []
    },
    {
      "cell_type": "code",
      "metadata": {
        "id": "3I7GJUXD9ZE5",
        "colab_type": "code",
        "colab": {}
      },
      "source": [
        "df=pd.DataFrame()"
      ],
      "execution_count": null,
      "outputs": []
    },
    {
      "cell_type": "code",
      "metadata": {
        "id": "fyuhGWkL9gk0",
        "colab_type": "code",
        "colab": {
          "base_uri": "https://localhost:8080/",
          "height": 450
        },
        "outputId": "b233c3f0-617c-47e6-8ecb-519f29669a43"
      },
      "source": [
        "for stock in assets:\n",
        "  df[stock]=web.DataReader(stock,data_source='yahoo',start=startStockDate,end=today)['Adj Close']\n",
        "df"
      ],
      "execution_count": null,
      "outputs": [
        {
          "output_type": "execute_result",
          "data": {
            "text/html": [
              "<div>\n",
              "<style scoped>\n",
              "    .dataframe tbody tr th:only-of-type {\n",
              "        vertical-align: middle;\n",
              "    }\n",
              "\n",
              "    .dataframe tbody tr th {\n",
              "        vertical-align: top;\n",
              "    }\n",
              "\n",
              "    .dataframe thead th {\n",
              "        text-align: right;\n",
              "    }\n",
              "</style>\n",
              "<table border=\"1\" class=\"dataframe\">\n",
              "  <thead>\n",
              "    <tr style=\"text-align: right;\">\n",
              "      <th></th>\n",
              "      <th>FB</th>\n",
              "      <th>AMZN</th>\n",
              "      <th>AAPL</th>\n",
              "      <th>NFLX</th>\n",
              "      <th>GOOG</th>\n",
              "    </tr>\n",
              "    <tr>\n",
              "      <th>Date</th>\n",
              "      <th></th>\n",
              "      <th></th>\n",
              "      <th></th>\n",
              "      <th></th>\n",
              "      <th></th>\n",
              "    </tr>\n",
              "  </thead>\n",
              "  <tbody>\n",
              "    <tr>\n",
              "      <th>2013-01-02</th>\n",
              "      <td>28.000000</td>\n",
              "      <td>257.309998</td>\n",
              "      <td>68.378807</td>\n",
              "      <td>13.144286</td>\n",
              "      <td>360.274597</td>\n",
              "    </tr>\n",
              "    <tr>\n",
              "      <th>2013-01-03</th>\n",
              "      <td>27.770000</td>\n",
              "      <td>258.480011</td>\n",
              "      <td>67.515701</td>\n",
              "      <td>13.798572</td>\n",
              "      <td>360.483826</td>\n",
              "    </tr>\n",
              "    <tr>\n",
              "      <th>2013-01-04</th>\n",
              "      <td>28.760000</td>\n",
              "      <td>259.149994</td>\n",
              "      <td>65.635078</td>\n",
              "      <td>13.711429</td>\n",
              "      <td>367.607117</td>\n",
              "    </tr>\n",
              "    <tr>\n",
              "      <th>2013-01-07</th>\n",
              "      <td>29.420000</td>\n",
              "      <td>268.459991</td>\n",
              "      <td>65.249001</td>\n",
              "      <td>14.171429</td>\n",
              "      <td>366.003143</td>\n",
              "    </tr>\n",
              "    <tr>\n",
              "      <th>2013-01-08</th>\n",
              "      <td>29.059999</td>\n",
              "      <td>266.380005</td>\n",
              "      <td>65.424622</td>\n",
              "      <td>13.880000</td>\n",
              "      <td>365.280823</td>\n",
              "    </tr>\n",
              "    <tr>\n",
              "      <th>...</th>\n",
              "      <td>...</td>\n",
              "      <td>...</td>\n",
              "      <td>...</td>\n",
              "      <td>...</td>\n",
              "      <td>...</td>\n",
              "    </tr>\n",
              "    <tr>\n",
              "      <th>2020-08-03</th>\n",
              "      <td>251.960007</td>\n",
              "      <td>3111.889893</td>\n",
              "      <td>434.965759</td>\n",
              "      <td>498.619995</td>\n",
              "      <td>1474.449951</td>\n",
              "    </tr>\n",
              "    <tr>\n",
              "      <th>2020-08-04</th>\n",
              "      <td>249.830002</td>\n",
              "      <td>3138.830078</td>\n",
              "      <td>437.870514</td>\n",
              "      <td>509.640015</td>\n",
              "      <td>1464.969971</td>\n",
              "    </tr>\n",
              "    <tr>\n",
              "      <th>2020-08-05</th>\n",
              "      <td>249.119995</td>\n",
              "      <td>3205.030029</td>\n",
              "      <td>439.457642</td>\n",
              "      <td>502.109985</td>\n",
              "      <td>1473.609985</td>\n",
              "    </tr>\n",
              "    <tr>\n",
              "      <th>2020-08-06</th>\n",
              "      <td>265.279999</td>\n",
              "      <td>3225.000000</td>\n",
              "      <td>454.790009</td>\n",
              "      <td>509.079987</td>\n",
              "      <td>1500.099976</td>\n",
              "    </tr>\n",
              "    <tr>\n",
              "      <th>2020-08-07</th>\n",
              "      <td>268.440002</td>\n",
              "      <td>3167.459961</td>\n",
              "      <td>444.450012</td>\n",
              "      <td>494.730011</td>\n",
              "      <td>1494.489990</td>\n",
              "    </tr>\n",
              "  </tbody>\n",
              "</table>\n",
              "<p>1914 rows × 5 columns</p>\n",
              "</div>"
            ],
            "text/plain": [
              "                    FB         AMZN        AAPL        NFLX         GOOG\n",
              "Date                                                                    \n",
              "2013-01-02   28.000000   257.309998   68.378807   13.144286   360.274597\n",
              "2013-01-03   27.770000   258.480011   67.515701   13.798572   360.483826\n",
              "2013-01-04   28.760000   259.149994   65.635078   13.711429   367.607117\n",
              "2013-01-07   29.420000   268.459991   65.249001   14.171429   366.003143\n",
              "2013-01-08   29.059999   266.380005   65.424622   13.880000   365.280823\n",
              "...                ...          ...         ...         ...          ...\n",
              "2020-08-03  251.960007  3111.889893  434.965759  498.619995  1474.449951\n",
              "2020-08-04  249.830002  3138.830078  437.870514  509.640015  1464.969971\n",
              "2020-08-05  249.119995  3205.030029  439.457642  502.109985  1473.609985\n",
              "2020-08-06  265.279999  3225.000000  454.790009  509.079987  1500.099976\n",
              "2020-08-07  268.440002  3167.459961  444.450012  494.730011  1494.489990\n",
              "\n",
              "[1914 rows x 5 columns]"
            ]
          },
          "metadata": {
            "tags": []
          },
          "execution_count": 49
        }
      ]
    },
    {
      "cell_type": "code",
      "metadata": {
        "id": "z6l_8yUO9wbl",
        "colab_type": "code",
        "colab": {
          "base_uri": "https://localhost:8080/",
          "height": 813
        },
        "outputId": "865f94f7-2d4a-41d6-9ec4-20bd33721151"
      },
      "source": [
        "title = 'Portfolio Adj. Close Price History'\n",
        "\n",
        "my_stocks = df\n",
        "plt.figure(figsize=(12,8))\n",
        "\n",
        "for c in my_stocks.columns.values:\n",
        "  plt.plot(my_stocks[c], label = c)\n",
        "\n",
        "plt.title(title)\n",
        "plt.xlabel('Date',fontsize = 18)\n",
        "plt.ylabel('Adj. Price USD $ :', fontsize =18)\n",
        "plt.legend(my_stocks.columns.values, loc ='upperLeft')"
      ],
      "execution_count": null,
      "outputs": [
        {
          "output_type": "stream",
          "text": [
            "/usr/local/lib/python3.6/dist-packages/ipykernel_launcher.py:12: MatplotlibDeprecationWarning: Unrecognized location 'upperLeft'. Falling back on 'best'; valid locations are\n",
            "\tbest\n",
            "\tupper right\n",
            "\tupper left\n",
            "\tlower left\n",
            "\tlower right\n",
            "\tright\n",
            "\tcenter left\n",
            "\tcenter right\n",
            "\tlower center\n",
            "\tupper center\n",
            "\tcenter\n",
            "This will raise an exception in 3.3.\n",
            "  if sys.path[0] == '':\n"
          ],
          "name": "stderr"
        },
        {
          "output_type": "execute_result",
          "data": {
            "text/plain": [
              "<matplotlib.legend.Legend at 0x7f4741fcea58>"
            ]
          },
          "metadata": {
            "tags": []
          },
          "execution_count": 50
        },
        {
          "output_type": "display_data",
          "data": {
            "image/png": "[encoded data removed]",
            "text/plain": [
              "<Figure size 864x576 with 1 Axes>"
            ]
          },
          "metadata": {
            "tags": []
          }
        }
      ]
    },
    {
      "cell_type": "code",
      "metadata": {
        "id": "KpI-qe-N-_-U",
        "colab_type": "code",
        "colab": {
          "base_uri": "https://localhost:8080/",
          "height": 450
        },
        "outputId": "a493e523-a323-4650-efef-274f579f17be"
      },
      "source": [
        "returns = df.pct_change()\n",
        "returns"
      ],
      "execution_count": null,
      "outputs": [
        {
          "output_type": "execute_result",
          "data": {
            "text/html": [
              "<div>\n",
              "<style scoped>\n",
              "    .dataframe tbody tr th:only-of-type {\n",
              "        vertical-align: middle;\n",
              "    }\n",
              "\n",
              "    .dataframe tbody tr th {\n",
              "        vertical-align: top;\n",
              "    }\n",
              "\n",
              "    .dataframe thead th {\n",
              "        text-align: right;\n",
              "    }\n",
              "</style>\n",
              "<table border=\"1\" class=\"dataframe\">\n",
              "  <thead>\n",
              "    <tr style=\"text-align: right;\">\n",
              "      <th></th>\n",
              "      <th>FB</th>\n",
              "      <th>AMZN</th>\n",
              "      <th>AAPL</th>\n",
              "      <th>NFLX</th>\n",
              "      <th>GOOG</th>\n",
              "    </tr>\n",
              "    <tr>\n",
              "      <th>Date</th>\n",
              "      <th></th>\n",
              "      <th></th>\n",
              "      <th></th>\n",
              "      <th></th>\n",
              "      <th></th>\n",
              "    </tr>\n",
              "  </thead>\n",
              "  <tbody>\n",
              "    <tr>\n",
              "      <th>2013-01-02</th>\n",
              "      <td>NaN</td>\n",
              "      <td>NaN</td>\n",
              "      <td>NaN</td>\n",
              "      <td>NaN</td>\n",
              "      <td>NaN</td>\n",
              "    </tr>\n",
              "    <tr>\n",
              "      <th>2013-01-03</th>\n",
              "      <td>-0.008214</td>\n",
              "      <td>0.004547</td>\n",
              "      <td>-0.012622</td>\n",
              "      <td>0.049777</td>\n",
              "      <td>0.000581</td>\n",
              "    </tr>\n",
              "    <tr>\n",
              "      <th>2013-01-04</th>\n",
              "      <td>0.035650</td>\n",
              "      <td>0.002592</td>\n",
              "      <td>-0.027855</td>\n",
              "      <td>-0.006315</td>\n",
              "      <td>0.019760</td>\n",
              "    </tr>\n",
              "    <tr>\n",
              "      <th>2013-01-07</th>\n",
              "      <td>0.022949</td>\n",
              "      <td>0.035925</td>\n",
              "      <td>-0.005882</td>\n",
              "      <td>0.033549</td>\n",
              "      <td>-0.004363</td>\n",
              "    </tr>\n",
              "    <tr>\n",
              "      <th>2013-01-08</th>\n",
              "      <td>-0.012237</td>\n",
              "      <td>-0.007748</td>\n",
              "      <td>0.002692</td>\n",
              "      <td>-0.020565</td>\n",
              "      <td>-0.001974</td>\n",
              "    </tr>\n",
              "    <tr>\n",
              "      <th>...</th>\n",
              "      <td>...</td>\n",
              "      <td>...</td>\n",
              "      <td>...</td>\n",
              "      <td>...</td>\n",
              "      <td>...</td>\n",
              "    </tr>\n",
              "    <tr>\n",
              "      <th>2020-08-03</th>\n",
              "      <td>-0.006741</td>\n",
              "      <td>-0.016681</td>\n",
              "      <td>0.025198</td>\n",
              "      <td>0.019923</td>\n",
              "      <td>-0.005739</td>\n",
              "    </tr>\n",
              "    <tr>\n",
              "      <th>2020-08-04</th>\n",
              "      <td>-0.008454</td>\n",
              "      <td>0.008657</td>\n",
              "      <td>0.006678</td>\n",
              "      <td>0.022101</td>\n",
              "      <td>-0.006430</td>\n",
              "    </tr>\n",
              "    <tr>\n",
              "      <th>2020-08-05</th>\n",
              "      <td>-0.002842</td>\n",
              "      <td>0.021091</td>\n",
              "      <td>0.003625</td>\n",
              "      <td>-0.014775</td>\n",
              "      <td>0.005898</td>\n",
              "    </tr>\n",
              "    <tr>\n",
              "      <th>2020-08-06</th>\n",
              "      <td>0.064868</td>\n",
              "      <td>0.006231</td>\n",
              "      <td>0.034889</td>\n",
              "      <td>0.013881</td>\n",
              "      <td>0.017976</td>\n",
              "    </tr>\n",
              "    <tr>\n",
              "      <th>2020-08-07</th>\n",
              "      <td>0.011912</td>\n",
              "      <td>-0.017842</td>\n",
              "      <td>-0.022736</td>\n",
              "      <td>-0.028188</td>\n",
              "      <td>-0.003740</td>\n",
              "    </tr>\n",
              "  </tbody>\n",
              "</table>\n",
              "<p>1914 rows × 5 columns</p>\n",
              "</div>"
            ],
            "text/plain": [
              "                  FB      AMZN      AAPL      NFLX      GOOG\n",
              "Date                                                        \n",
              "2013-01-02       NaN       NaN       NaN       NaN       NaN\n",
              "2013-01-03 -0.008214  0.004547 -0.012622  0.049777  0.000581\n",
              "2013-01-04  0.035650  0.002592 -0.027855 -0.006315  0.019760\n",
              "2013-01-07  0.022949  0.035925 -0.005882  0.033549 -0.004363\n",
              "2013-01-08 -0.012237 -0.007748  0.002692 -0.020565 -0.001974\n",
              "...              ...       ...       ...       ...       ...\n",
              "2020-08-03 -0.006741 -0.016681  0.025198  0.019923 -0.005739\n",
              "2020-08-04 -0.008454  0.008657  0.006678  0.022101 -0.006430\n",
              "2020-08-05 -0.002842  0.021091  0.003625 -0.014775  0.005898\n",
              "2020-08-06  0.064868  0.006231  0.034889  0.013881  0.017976\n",
              "2020-08-07  0.011912 -0.017842 -0.022736 -0.028188 -0.003740\n",
              "\n",
              "[1914 rows x 5 columns]"
            ]
          },
          "metadata": {
            "tags": []
          },
          "execution_count": 51
        }
      ]
    },
    {
      "cell_type": "code",
      "metadata": {
        "id": "e3nTl7nhAPMW",
        "colab_type": "code",
        "colab": {
          "base_uri": "https://localhost:8080/",
          "height": 204
        },
        "outputId": "a0d2eb6b-89e9-4ca1-deda-1dfd4b01372b"
      },
      "source": [
        "cov_matrix_annual = returns.cov()*252\n",
        "cov_matrix_annual"
      ],
      "execution_count": null,
      "outputs": [
        {
          "output_type": "execute_result",
          "data": {
            "text/html": [
              "<div>\n",
              "<style scoped>\n",
              "    .dataframe tbody tr th:only-of-type {\n",
              "        vertical-align: middle;\n",
              "    }\n",
              "\n",
              "    .dataframe tbody tr th {\n",
              "        vertical-align: top;\n",
              "    }\n",
              "\n",
              "    .dataframe thead th {\n",
              "        text-align: right;\n",
              "    }\n",
              "</style>\n",
              "<table border=\"1\" class=\"dataframe\">\n",
              "  <thead>\n",
              "    <tr style=\"text-align: right;\">\n",
              "      <th></th>\n",
              "      <th>FB</th>\n",
              "      <th>AMZN</th>\n",
              "      <th>AAPL</th>\n",
              "      <th>NFLX</th>\n",
              "      <th>GOOG</th>\n",
              "    </tr>\n",
              "  </thead>\n",
              "  <tbody>\n",
              "    <tr>\n",
              "      <th>FB</th>\n",
              "      <td>0.117348</td>\n",
              "      <td>0.052715</td>\n",
              "      <td>0.042448</td>\n",
              "      <td>0.054601</td>\n",
              "      <td>0.048801</td>\n",
              "    </tr>\n",
              "    <tr>\n",
              "      <th>AMZN</th>\n",
              "      <td>0.052715</td>\n",
              "      <td>0.092741</td>\n",
              "      <td>0.036639</td>\n",
              "      <td>0.061688</td>\n",
              "      <td>0.046750</td>\n",
              "    </tr>\n",
              "    <tr>\n",
              "      <th>AAPL</th>\n",
              "      <td>0.042448</td>\n",
              "      <td>0.036639</td>\n",
              "      <td>0.078009</td>\n",
              "      <td>0.032439</td>\n",
              "      <td>0.037261</td>\n",
              "    </tr>\n",
              "    <tr>\n",
              "      <th>NFLX</th>\n",
              "      <td>0.054601</td>\n",
              "      <td>0.061688</td>\n",
              "      <td>0.032439</td>\n",
              "      <td>0.212082</td>\n",
              "      <td>0.048971</td>\n",
              "    </tr>\n",
              "    <tr>\n",
              "      <th>GOOG</th>\n",
              "      <td>0.048801</td>\n",
              "      <td>0.046750</td>\n",
              "      <td>0.037261</td>\n",
              "      <td>0.048971</td>\n",
              "      <td>0.065011</td>\n",
              "    </tr>\n",
              "  </tbody>\n",
              "</table>\n",
              "</div>"
            ],
            "text/plain": [
              "            FB      AMZN      AAPL      NFLX      GOOG\n",
              "FB    0.117348  0.052715  0.042448  0.054601  0.048801\n",
              "AMZN  0.052715  0.092741  0.036639  0.061688  0.046750\n",
              "AAPL  0.042448  0.036639  0.078009  0.032439  0.037261\n",
              "NFLX  0.054601  0.061688  0.032439  0.212082  0.048971\n",
              "GOOG  0.048801  0.046750  0.037261  0.048971  0.065011"
            ]
          },
          "metadata": {
            "tags": []
          },
          "execution_count": 52
        }
      ]
    },
    {
      "cell_type": "code",
      "metadata": {
        "id": "jMEC_cfoAaQK",
        "colab_type": "code",
        "colab": {
          "base_uri": "https://localhost:8080/",
          "height": 34
        },
        "outputId": "2f4e6468-c240-4dbd-ca41-7c040f36ef06"
      },
      "source": [
        "#Calulating Portfolio Variance\n",
        "port_variance=np.dot(weights.T, np.dot(cov_matrix_annual, weights))\n",
        "port_variance"
      ],
      "execution_count": null,
      "outputs": [
        {
          "output_type": "execute_result",
          "data": {
            "text/plain": [
              "0.059592653433027956"
            ]
          },
          "metadata": {
            "tags": []
          },
          "execution_count": 53
        }
      ]
    },
    {
      "cell_type": "code",
      "metadata": {
        "id": "FELLLOc9A-JI",
        "colab_type": "code",
        "colab": {
          "base_uri": "https://localhost:8080/",
          "height": 34
        },
        "outputId": "a85fb2d0-3c06-4d5d-fe81-9a3d040f7123"
      },
      "source": [
        "#portfolio volatility or standard deviation\n",
        "port_volatility = np.sqrt(port_variance)\n",
        "port_volatility\n"
      ],
      "execution_count": null,
      "outputs": [
        {
          "output_type": "execute_result",
          "data": {
            "text/plain": [
              "0.24411606549555062"
            ]
          },
          "metadata": {
            "tags": []
          },
          "execution_count": 54
        }
      ]
    },
    {
      "cell_type": "code",
      "metadata": {
        "id": "bue-urFWBOoB",
        "colab_type": "code",
        "colab": {
          "base_uri": "https://localhost:8080/",
          "height": 34
        },
        "outputId": "61b58c7c-c31b-415b-ce9a-e536e25a66fb"
      },
      "source": [
        "#annual portfolio retunrs\n",
        "portfolioSimpleAnnualReturn = np.sum(returns.mean()*weights)*252\n",
        "portfolioSimpleAnnualReturn"
      ],
      "execution_count": null,
      "outputs": [
        {
          "output_type": "execute_result",
          "data": {
            "text/plain": [
              "0.3637935763014299"
            ]
          },
          "metadata": {
            "tags": []
          },
          "execution_count": 55
        }
      ]
    },
    {
      "cell_type": "code",
      "metadata": {
        "id": "rVTZitTEBfeG",
        "colab_type": "code",
        "colab": {
          "base_uri": "https://localhost:8080/",
          "height": 68
        },
        "outputId": "8c5beb7d-195a-44dc-9221-9c3e5f655c29"
      },
      "source": [
        "# annula return, volatilty(risk and variance)\n",
        "percent_var = str(round(port_variance, 2)*100)+'%'\n",
        "percent_vols= str(round(port_volatility,2)*100) +'%'\n",
        "percent_ret = str(round(portfolioSimpleAnnualReturn, 2)*100)+'%'\n",
        "\n",
        "print('Expected annual return :'+ percent_ret)\n",
        "print('Annual volatility/risk:' + percent_vols)\n",
        "print('Annula variance :'+ percent_var)"
      ],
      "execution_count": null,
      "outputs": [
        {
          "output_type": "stream",
          "text": [
            "Expected annual return :36.0%\n",
            "Annual volatility/risk:24.0%\n",
            "Annula variance :6.0%\n"
          ],
          "name": "stdout"
        }
      ]
    },
    {
      "cell_type": "code",
      "metadata": {
        "id": "XPH_w_ZICgbj",
        "colab_type": "code",
        "colab": {
          "base_uri": "https://localhost:8080/",
          "height": 255
        },
        "outputId": "c9644e93-bd61-41e6-f2e1-1db02b51cbd7"
      },
      "source": [
        "pip install PyPortfolioOpt\n"
      ],
      "execution_count": null,
      "outputs": [
        {
          "output_type": "stream",
          "text": [
            "Requirement already satisfied: PyPortfolioOpt in /usr/local/lib/python3.6/dist-packages (1.2.4)\n",
            "Requirement already satisfied: scipy<2.0,>=1.3 in /usr/local/lib/python3.6/dist-packages (from PyPortfolioOpt) (1.4.1)\n",
            "Requirement already satisfied: cvxpy<1.1,>=1.0 in /usr/local/lib/python3.6/dist-packages (from PyPortfolioOpt) (1.0.31)\n",
            "Requirement already satisfied: numpy<2.0,>=1.12 in /usr/local/lib/python3.6/dist-packages (from PyPortfolioOpt) (1.18.5)\n",
            "Requirement already satisfied: pandas>=0.19 in /usr/local/lib/python3.6/dist-packages (from PyPortfolioOpt) (1.0.5)\n",
            "Requirement already satisfied: osqp>=0.4.1 in /usr/local/lib/python3.6/dist-packages (from cvxpy<1.1,>=1.0->PyPortfolioOpt) (0.6.1)\n",
            "Requirement already satisfied: multiprocess in /usr/local/lib/python3.6/dist-packages (from cvxpy<1.1,>=1.0->PyPortfolioOpt) (0.70.10)\n",
            "Requirement already satisfied: ecos>=2 in /usr/local/lib/python3.6/dist-packages (from cvxpy<1.1,>=1.0->PyPortfolioOpt) (2.0.7.post1)\n",
            "Requirement already satisfied: scs>=1.1.3 in /usr/local/lib/python3.6/dist-packages (from cvxpy<1.1,>=1.0->PyPortfolioOpt) (2.1.2)\n",
            "Requirement already satisfied: pytz>=2017.2 in /usr/local/lib/python3.6/dist-packages (from pandas>=0.19->PyPortfolioOpt) (2018.9)\n",
            "Requirement already satisfied: python-dateutil>=2.6.1 in /usr/local/lib/python3.6/dist-packages (from pandas>=0.19->PyPortfolioOpt) (2.8.1)\n",
            "Requirement already satisfied: future in /usr/local/lib/python3.6/dist-packages (from osqp>=0.4.1->cvxpy<1.1,>=1.0->PyPortfolioOpt) (0.16.0)\n",
            "Requirement already satisfied: dill>=0.3.2 in /usr/local/lib/python3.6/dist-packages (from multiprocess->cvxpy<1.1,>=1.0->PyPortfolioOpt) (0.3.2)\n",
            "Requirement already satisfied: six>=1.5 in /usr/local/lib/python3.6/dist-packages (from python-dateutil>=2.6.1->pandas>=0.19->PyPortfolioOpt) (1.15.0)\n"
          ],
          "name": "stdout"
        }
      ]
    },
    {
      "cell_type": "code",
      "metadata": {
        "id": "aKU4KI1iDDGc",
        "colab_type": "code",
        "colab": {}
      },
      "source": [
        "from pypfopt.efficient_frontier import EfficientFrontier\n",
        "from pypfopt import risk_models\n",
        "from pypfopt import expected_returns\n"
      ],
      "execution_count": null,
      "outputs": []
    },
    {
      "cell_type": "code",
      "metadata": {
        "id": "vY1B2YBwDDJO",
        "colab_type": "code",
        "colab": {
          "base_uri": "https://localhost:8080/",
          "height": 102
        },
        "outputId": "2498d117-b693-4e3e-950f-e1ea31c7dfe4"
      },
      "source": [
        "#calculating the expected retruns and the annualized sample covariance matrix of asset returns\n",
        "#mean\n",
        "M = expected_returns.mean_historical_return(df)\n",
        "\n",
        "#Sample Covarinace\n",
        "S = risk_models.sample_cov(df)\n",
        "\n",
        "# optimize for max sharp ratio\n",
        "ef = EfficientFrontier(M,S)\n",
        "weights = ef.max_sharpe()\n",
        "cleaned_weights = ef.clean_weights()\n",
        "\n",
        "print(cleaned_weights)\n",
        "ef.portfolio_performance(verbose =True)\n"
      ],
      "execution_count": null,
      "outputs": [
        {
          "output_type": "stream",
          "text": [
            "OrderedDict([('FB', 0.13555), ('AMZN', 0.29634), ('AAPL', 0.26205), ('NFLX', 0.30606), ('GOOG', 0.0)])\n",
            "Expected annual return: 41.3%\n",
            "Annual volatility: 26.3%\n",
            "Sharpe Ratio: 1.49\n"
          ],
          "name": "stdout"
        },
        {
          "output_type": "execute_result",
          "data": {
            "text/plain": [
              "(0.41255292546447064, 0.26341720441999966, 1.4902326760653546)"
            ]
          },
          "metadata": {
            "tags": []
          },
          "execution_count": 59
        }
      ]
    },
    {
      "cell_type": "code",
      "metadata": {
        "id": "Yh1ZmCYkEiaz",
        "colab_type": "code",
        "colab": {
          "base_uri": "https://localhost:8080/",
          "height": 51
        },
        "outputId": "4ce9c769-a737-4118-bb25-739a67b35a98"
      },
      "source": [
        "from pypfopt.discrete_allocation import DiscreteAllocation, get_latest_prices\n",
        "\n",
        "latest_prices = get_latest_prices(df)\n",
        "weights = cleaned_weights\n",
        "da = DiscreteAllocation(weights, latest_prices , total_portfolio_value = 20000)\n",
        "\n",
        "allocation, leftover = da.lp_portfolio()\n",
        "print('Discrete allocation :', allocation)\n",
        "print('Funds remaining $:{:.2f}'.format(leftover))\n",
        "\n"
      ],
      "execution_count": null,
      "outputs": [
        {
          "output_type": "stream",
          "text": [
            "Discrete allocation : {'FB': 10.0, 'AMZN': 2.0, 'AAPL': 11.0, 'NFLX': 12.0}\n",
            "Funds remaining $:154.97\n"
          ],
          "name": "stdout"
        }
      ]
    },
    {
      "cell_type": "code",
      "metadata": {
        "id": "p8LiKX04FrZk",
        "colab_type": "code",
        "colab": {}
      },
      "source": [
        ""
      ],
      "execution_count": null,
      "outputs": []
    }
  ]
}